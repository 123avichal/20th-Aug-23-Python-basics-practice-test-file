{
 "cells": [
  {
   "cell_type": "markdown",
   "id": "a1359a48-71b9-426a-aad8-db6e2960b75e",
   "metadata": {},
   "source": [
    "## TOPIC: String Based Assignment Problem"
   ]
  },
  {
   "cell_type": "markdown",
   "id": "fb46ade9-bd4c-4f96-b0e5-49846da84d85",
   "metadata": {},
   "source": [
    "1. Write a program to reverse a string."
   ]
  },
  {
   "cell_type": "code",
   "execution_count": 1,
   "id": "bebd7594-df59-4d6e-8c6e-6dccbb41b7b0",
   "metadata": {},
   "outputs": [
    {
     "data": {
      "text/plain": [
       "'dlrow olleh'"
      ]
     },
     "execution_count": 1,
     "metadata": {},
     "output_type": "execute_result"
    }
   ],
   "source": [
    "s = 'hello world'\n",
    "s[::-1]"
   ]
  },
  {
   "cell_type": "markdown",
   "id": "401cfb64-f7f8-433e-90c2-4e6f8009d23e",
   "metadata": {},
   "source": [
    "2. Check if a string is a palindrome."
   ]
  },
  {
   "cell_type": "code",
   "execution_count": 9,
   "id": "825e47d3-f68b-435c-803c-f6a6d4135bf0",
   "metadata": {},
   "outputs": [
    {
     "name": "stdout",
     "output_type": "stream",
     "text": [
      "string is palindrome\n"
     ]
    }
   ],
   "source": [
    "s = 'mom'\n",
    "if s[::-1]==s:\n",
    "    print('string is palindrome')\n",
    "else:\n",
    "    print('string is not palindrome')"
   ]
  },
  {
   "cell_type": "markdown",
   "id": "d85e2183-9422-42fc-8750-03870448593f",
   "metadata": {},
   "source": [
    "3. Convert a string to uppercase."
   ]
  },
  {
   "cell_type": "code",
   "execution_count": 10,
   "id": "d76fe2d9-1e68-43a4-be53-01a071ec1eb4",
   "metadata": {},
   "outputs": [
    {
     "data": {
      "text/plain": [
       "'HELLO WORLD'"
      ]
     },
     "execution_count": 10,
     "metadata": {},
     "output_type": "execute_result"
    }
   ],
   "source": [
    "s = 'hello world'\n",
    "s.upper()"
   ]
  },
  {
   "cell_type": "markdown",
   "id": "fa403f92-6b04-46bc-91bd-5d3b415eceba",
   "metadata": {},
   "source": [
    "4. Convert a string to lowercase."
   ]
  },
  {
   "cell_type": "code",
   "execution_count": 11,
   "id": "fe46b540-90cb-4b89-890b-a5c75c193a90",
   "metadata": {},
   "outputs": [
    {
     "data": {
      "text/plain": [
       "'hello world'"
      ]
     },
     "execution_count": 11,
     "metadata": {},
     "output_type": "execute_result"
    }
   ],
   "source": [
    "s = 'hello world'\n",
    "s.lower()"
   ]
  },
  {
   "cell_type": "markdown",
   "id": "7d03a72d-1a8a-4a07-be49-78df1c8387f8",
   "metadata": {},
   "source": [
    "5. Count the number of vowels in a string."
   ]
  },
  {
   "cell_type": "code",
   "execution_count": 69,
   "id": "85514fdc-46ec-4bb8-bd66-d3b40ff25e39",
   "metadata": {},
   "outputs": [
    {
     "name": "stdout",
     "output_type": "stream",
     "text": [
      "3\n"
     ]
    }
   ],
   "source": [
    "s = 'avichal'\n",
    "vowels = \"aeiou\"\n",
    "count = sum(s.count(vowel) for vowel in vowels)\n",
    "print(count)"
   ]
  },
  {
   "cell_type": "code",
   "execution_count": null,
   "id": "07a30c92-efd7-4b49-94ad-16463106311e",
   "metadata": {},
   "outputs": [],
   "source": [
    "6. Count the number of consonants in a string."
   ]
  },
  {
   "cell_type": "code",
   "execution_count": 1,
   "id": "3e0b0706-5564-4662-9dc8-10678db33180",
   "metadata": {},
   "outputs": [
    {
     "name": "stdin",
     "output_type": "stream",
     "text": [
      "Enter a string:  cvcbcfb\n"
     ]
    },
    {
     "name": "stdout",
     "output_type": "stream",
     "text": [
      "Number of consonants: 7\n"
     ]
    }
   ],
   "source": [
    "def count_consonants(string):\n",
    "    \n",
    "    consonant_count = 0\n",
    "\n",
    "    \n",
    "    consonants = \"bcdfghjklmnpqrstvwxyzBCDFGHJKLMNPQRSTVWXYZ\"\n",
    "\n",
    "\n",
    "    for char in string:\n",
    "       \n",
    "        if char in consonants:\n",
    "    \n",
    "            consonant_count += 1\n",
    "\n",
    "\n",
    "    return consonant_count\n",
    "\n",
    "input_string = input(\"Enter a string: \")\n",
    "\n",
    "\n",
    "result = count_consonants(input_string)\n",
    "print(\"Number of consonants:\", result)"
   ]
  },
  {
   "cell_type": "markdown",
   "id": "06a68c23-75d0-4d94-a618-fcb89fb97b27",
   "metadata": {},
   "source": [
    "7. Remove all whitespaces from a string."
   ]
  },
  {
   "cell_type": "code",
   "execution_count": 70,
   "id": "c4cf4d68-af9d-4c42-9b50-b5c549b61c84",
   "metadata": {},
   "outputs": [
    {
     "data": {
      "text/plain": [
       "'helooworld'"
      ]
     },
     "execution_count": 70,
     "metadata": {},
     "output_type": "execute_result"
    }
   ],
   "source": [
    "s = 'heloo world'\n",
    "s.replace(' ',\"\")"
   ]
  },
  {
   "cell_type": "markdown",
   "id": "b6080f43-d368-4667-9a21-f84196e21180",
   "metadata": {},
   "source": [
    "8. Find the length of a string without using the `len()` function."
   ]
  },
  {
   "cell_type": "code",
   "execution_count": 94,
   "id": "fe1822e3-83eb-4060-80d2-18c81107a69d",
   "metadata": {},
   "outputs": [
    {
     "name": "stdout",
     "output_type": "stream",
     "text": [
      "7\n"
     ]
    }
   ],
   "source": [
    "s1 = 'avichal'\n",
    "count = 0\n",
    "for i in s1:\n",
    "    count = count+1\n",
    "print(count)"
   ]
  },
  {
   "cell_type": "markdown",
   "id": "f2a2a380-27c5-4474-9124-4d701082cf98",
   "metadata": {},
   "source": [
    "9. Check if a string contains a specific word."
   ]
  },
  {
   "cell_type": "code",
   "execution_count": 105,
   "id": "30220c8b-8c51-4acc-8bc2-778cf8fec744",
   "metadata": {},
   "outputs": [
    {
     "name": "stdout",
     "output_type": "stream",
     "text": [
      "the string contain Name\n"
     ]
    }
   ],
   "source": [
    "s = 'My Name Is AVichal'\n",
    "if 'Name' in s:\n",
    "    print('the string contain','Name')\n",
    "else:\n",
    "    print(\"The string does not contain 'Name'\")"
   ]
  },
  {
   "cell_type": "markdown",
   "id": "4ec1aa63-c272-4a82-9f59-894b91186f60",
   "metadata": {},
   "source": [
    "10. Replace a word in a string with another word."
   ]
  },
  {
   "cell_type": "code",
   "execution_count": 117,
   "id": "d0370abb-1886-4146-802e-89b35ad0e211",
   "metadata": {},
   "outputs": [
    {
     "name": "stdout",
     "output_type": "stream",
     "text": [
      "social science\n"
     ]
    }
   ],
   "source": [
    "s = 'data science'\n",
    "r=s.replace('data', 'social')\n",
    "print(r)"
   ]
  },
  {
   "cell_type": "markdown",
   "id": "1246ce00-b5a4-4d92-9cbc-c8c3e7866599",
   "metadata": {},
   "source": [
    "11. Count the occurrences of a word in a string."
   ]
  },
  {
   "cell_type": "code",
   "execution_count": 122,
   "id": "1c087269-3e6a-4f13-95f9-f6b8c4198f7c",
   "metadata": {
    "tags": []
   },
   "outputs": [
    {
     "name": "stdout",
     "output_type": "stream",
     "text": [
      "2\n"
     ]
    }
   ],
   "source": [
    "s = 'avichal'\n",
    "count=s.count('a')\n",
    "print(count)"
   ]
  },
  {
   "cell_type": "code",
   "execution_count": null,
   "id": "ce59ffce-f295-449d-8dcd-8037e6c9f124",
   "metadata": {},
   "outputs": [],
   "source": [
    "12. Find the first occurrence of a word in a string."
   ]
  },
  {
   "cell_type": "code",
   "execution_count": 2,
   "id": "3b0493ee-40bc-483b-9fb7-554a37ff59d6",
   "metadata": {},
   "outputs": [
    {
     "name": "stdout",
     "output_type": "stream",
     "text": [
      "Index of the first occurrence: 11\n"
     ]
    }
   ],
   "source": [
    "def find_first_occurrence(text, word):\n",
    "    # Step 1: Find the index of the first occurrence of the word in the text.\n",
    "    index = text.find(word)\n",
    "\n",
    "    # Step 2: Check if the index is -1, indicating that the word was not found.\n",
    "    if index == -1:\n",
    "        return None  # Return None if the word is not found.\n",
    "\n",
    "    # Step 3: Return the index of the first occurrence of the word.\n",
    "    return index\n",
    "\n",
    "# Example usage\n",
    "text = \"This is an example sentence. This sentence contains the word example.\"\n",
    "word = \"example\"\n",
    "result = find_first_occurrence(text, word)\n",
    "print(\"Index of the first occurrence:\", result)"
   ]
  },
  {
   "cell_type": "code",
   "execution_count": null,
   "id": "7b478552-f236-4c70-9244-36a46bab7221",
   "metadata": {},
   "outputs": [],
   "source": [
    "13. Find the last occurrence of a word in a string."
   ]
  },
  {
   "cell_type": "code",
   "execution_count": 3,
   "id": "c0a40c68-f438-47f8-8b96-bc7fa0593d03",
   "metadata": {},
   "outputs": [
    {
     "name": "stdout",
     "output_type": "stream",
     "text": [
      "Index of the last occurrence: 66\n"
     ]
    }
   ],
   "source": [
    "def find_last_occurrence(text, word):\n",
    "    # Step 1: Find the index of the last occurrence of the word in the text.\n",
    "    index = text.rfind(word)\n",
    "\n",
    "    # Step 2: Check if the index is -1, indicating that the word was not found.\n",
    "    if index == -1:\n",
    "        return None  # Return None if the word is not found.\n",
    "\n",
    "    # Step 3: Return the index of the last occurrence of the word.\n",
    "    return index\n",
    "\n",
    "# Example usage\n",
    "text = \"This is an example sentence. This sentence also contains the word example.\"\n",
    "word = \"example\"\n",
    "result = find_last_occurrence(text, word)\n",
    "print(\"Index of the last occurrence:\", result)"
   ]
  },
  {
   "cell_type": "markdown",
   "id": "92574dcc-09bb-442a-b2af-12597ac3bd5a",
   "metadata": {},
   "source": [
    "14. Split a string into a list of words."
   ]
  },
  {
   "cell_type": "code",
   "execution_count": 144,
   "id": "f9c669b1-2439-430a-bd47-2547cffe722b",
   "metadata": {},
   "outputs": [
    {
     "name": "stdout",
     "output_type": "stream",
     "text": [
      "['p', 'o', 'l', 'i', 't', 'y']\n"
     ]
    }
   ],
   "source": [
    "s = 'polity'\n",
    "print([*s])"
   ]
  },
  {
   "cell_type": "code",
   "execution_count": null,
   "id": "8f4b8c80-84c2-497b-b3e1-173c6cedf481",
   "metadata": {},
   "outputs": [],
   "source": [
    "15. Join a list of words into a string."
   ]
  },
  {
   "cell_type": "code",
   "execution_count": 151,
   "id": "f46e5d2c-860d-4c48-9e04-474741add201",
   "metadata": {},
   "outputs": [
    {
     "name": "stdout",
     "output_type": "stream",
     "text": [
      "avi\n"
     ]
    }
   ],
   "source": [
    "l = ['a','v','i']\n",
    "print(\"\".join(l))"
   ]
  },
  {
   "cell_type": "code",
   "execution_count": null,
   "id": "11253bba-5da0-49d1-8fdf-c89a88c0437b",
   "metadata": {},
   "outputs": [],
   "source": [
    "16. Convert a string where words are separated by spaces to one where words\n",
    "are separated by underscores."
   ]
  },
  {
   "cell_type": "code",
   "execution_count": 163,
   "id": "9341f136-2a13-4ff9-b175-105920e7af2c",
   "metadata": {},
   "outputs": [
    {
     "data": {
      "text/plain": [
       "'my-name-is-avichal'"
      ]
     },
     "execution_count": 163,
     "metadata": {},
     "output_type": "execute_result"
    }
   ],
   "source": [
    "s = 'my name is avichal'\n",
    "s.replace(' ' , '-')"
   ]
  },
  {
   "cell_type": "code",
   "execution_count": null,
   "id": "3ffd5725-4fad-4cc1-b25a-e8c26e3af340",
   "metadata": {},
   "outputs": [],
   "source": [
    "17. Check if a string starts with a specific word or phrase."
   ]
  },
  {
   "cell_type": "code",
   "execution_count": 171,
   "id": "fbee261b-968c-4b59-b11d-f900322da74d",
   "metadata": {},
   "outputs": [
    {
     "name": "stdout",
     "output_type": "stream",
     "text": [
      "the string start with i enrolled\n"
     ]
    }
   ],
   "source": [
    "s = 'i enrolled in data science'\n",
    "if 'i enrolled'in s:\n",
    "    print('the string start with','i enrolled')\n",
    "else:\n",
    "    print('the string not start with','i enrolled')"
   ]
  },
  {
   "cell_type": "code",
   "execution_count": null,
   "id": "b75cb6bc-c4fa-4883-8a0c-ba4988ab424b",
   "metadata": {},
   "outputs": [],
   "source": [
    "18. Check if a string ends with a specific word or phrase."
   ]
  },
  {
   "cell_type": "code",
   "execution_count": 173,
   "id": "a2039bf7-caa3-45c0-b739-992dd995e7c9",
   "metadata": {},
   "outputs": [
    {
     "name": "stdout",
     "output_type": "stream",
     "text": [
      "the string end with science\n"
     ]
    }
   ],
   "source": [
    "s = 'i enrolled in data science'\n",
    "if 'science'in s:\n",
    "    print('the string end with','science')\n",
    "else:\n",
    "    print('the string not end with','science')"
   ]
  },
  {
   "cell_type": "code",
   "execution_count": null,
   "id": "ea0c134f-d0a0-4995-b75a-e79cfe407075",
   "metadata": {},
   "outputs": [],
   "source": [
    "19. Convert a string to title case (e.g., \"hello world\" to \"Hello World\")."
   ]
  },
  {
   "cell_type": "code",
   "execution_count": 174,
   "id": "b8c5e244-2f3f-4302-b245-a46bc5d21cd0",
   "metadata": {},
   "outputs": [
    {
     "data": {
      "text/plain": [
       "'Avichal Saxena'"
      ]
     },
     "execution_count": 174,
     "metadata": {},
     "output_type": "execute_result"
    }
   ],
   "source": [
    "s1 = 'avichal saxena'\n",
    "s1.title()"
   ]
  },
  {
   "cell_type": "code",
   "execution_count": null,
   "id": "89307507-2608-4490-887e-112028a87d6d",
   "metadata": {},
   "outputs": [],
   "source": [
    "20. Find the longest word in a string."
   ]
  },
  {
   "cell_type": "code",
   "execution_count": 182,
   "id": "c19849ee-9477-4432-b0a1-7886b4ac1405",
   "metadata": {},
   "outputs": [
    {
     "name": "stdout",
     "output_type": "stream",
     "text": [
      "bachlors\n"
     ]
    }
   ],
   "source": [
    "s = 'i have done my bachlors'\n",
    "s=s.split()\n",
    "print(max(s,key=len))"
   ]
  },
  {
   "cell_type": "code",
   "execution_count": null,
   "id": "6f2d2eb4-4301-4a4c-bf04-6a9d2f47fe5e",
   "metadata": {},
   "outputs": [],
   "source": [
    "21. Find the shortest word in a string."
   ]
  },
  {
   "cell_type": "code",
   "execution_count": 1,
   "id": "61a7ce57-e0c0-4ad3-a129-598dad9e37b4",
   "metadata": {},
   "outputs": [
    {
     "name": "stdout",
     "output_type": "stream",
     "text": [
      "i\n"
     ]
    }
   ],
   "source": [
    "s = 'i have done my bachlors'\n",
    "s=s.split()\n",
    "print(min(s,key=len))"
   ]
  },
  {
   "cell_type": "code",
   "execution_count": null,
   "id": "3174d9a8-da8f-42a8-b361-ff0c700ef151",
   "metadata": {},
   "outputs": [],
   "source": [
    "22. Reverse the order of words in a string."
   ]
  },
  {
   "cell_type": "code",
   "execution_count": 4,
   "id": "41a7886d-cb94-4abb-b26e-0c122d9ab043",
   "metadata": {},
   "outputs": [
    {
     "data": {
      "text/plain": [
       "'sdrow'"
      ]
     },
     "execution_count": 4,
     "metadata": {},
     "output_type": "execute_result"
    }
   ],
   "source": [
    "s= 'words'\n",
    "s1=s[::-1]\n",
    "s1"
   ]
  },
  {
   "cell_type": "code",
   "execution_count": null,
   "id": "668f1ffb-2de9-48cf-8aa2-86c59df3dfc2",
   "metadata": {},
   "outputs": [],
   "source": [
    "23. Check if a string is alphanumeric."
   ]
  },
  {
   "cell_type": "code",
   "execution_count": 19,
   "id": "ffd5ccea-f476-4dc4-84a2-7c0830dda550",
   "metadata": {},
   "outputs": [
    {
     "data": {
      "text/plain": [
       "False"
      ]
     },
     "execution_count": 19,
     "metadata": {},
     "output_type": "execute_result"
    }
   ],
   "source": [
    "s1 = '123school'\n",
    "s1.isnumeric()"
   ]
  },
  {
   "cell_type": "code",
   "execution_count": null,
   "id": "d223b7ad-7d1e-44cb-a90d-58bb50c023f0",
   "metadata": {},
   "outputs": [],
   "source": [
    "24. Extract all digits from a string."
   ]
  },
  {
   "cell_type": "code",
   "execution_count": 21,
   "id": "7130f7cc-3587-4715-b845-803feaec530f",
   "metadata": {},
   "outputs": [
    {
     "data": {
      "text/plain": [
       "'1,2,3,4,5'"
      ]
     },
     "execution_count": 21,
     "metadata": {},
     "output_type": "execute_result"
    }
   ],
   "source": [
    "S = \"1,2,3,4,5\"\n",
    "S[0:90]"
   ]
  },
  {
   "cell_type": "code",
   "execution_count": null,
   "id": "f4c16979-426c-4f87-a925-e8f1f667a243",
   "metadata": {},
   "outputs": [],
   "source": [
    "25. Extract all alphabets from a string."
   ]
  },
  {
   "cell_type": "code",
   "execution_count": 22,
   "id": "55481c05-c37b-4659-8884-2bd95bba5d7b",
   "metadata": {},
   "outputs": [
    {
     "data": {
      "text/plain": [
       "'hello'"
      ]
     },
     "execution_count": 22,
     "metadata": {},
     "output_type": "execute_result"
    }
   ],
   "source": [
    "s = 'hello'\n",
    "s[0:93]"
   ]
  },
  {
   "cell_type": "code",
   "execution_count": null,
   "id": "5c42bce7-3a96-42be-aeba-f32b4d2855cd",
   "metadata": {},
   "outputs": [],
   "source": [
    "26. Count the number of uppercase letters in a string."
   ]
  },
  {
   "cell_type": "code",
   "execution_count": 13,
   "id": "359d1d33-ee27-4d78-b977-d96559fed4f5",
   "metadata": {},
   "outputs": [
    {
     "name": "stdout",
     "output_type": "stream",
     "text": [
      "the no upper case in string is 4\n"
     ]
    }
   ],
   "source": [
    "s = 'AVIChal'\n",
    "count= 0\n",
    "for i in s:\n",
    "    if i.isupper():\n",
    "        count=count+1\n",
    "print(\"the no of upper case in string is\",count)\n"
   ]
  },
  {
   "cell_type": "code",
   "execution_count": null,
   "id": "47f3768d-b24e-4639-9e4d-da499c2d5226",
   "metadata": {},
   "outputs": [],
   "source": [
    "27. Count the number of lowercase letters in a string."
   ]
  },
  {
   "cell_type": "code",
   "execution_count": 18,
   "id": "8b5db392-02c3-408e-8faf-c54abc476902",
   "metadata": {},
   "outputs": [
    {
     "name": "stdout",
     "output_type": "stream",
     "text": [
      "the no of lower case in string is  5\n"
     ]
    }
   ],
   "source": [
    "s1 = 'AVichal'\n",
    "count= 0\n",
    "for i in s1:\n",
    "    if i.islower():\n",
    "        count=count+1\n",
    "print(\"the no of lower case in string is \",count)"
   ]
  },
  {
   "cell_type": "code",
   "execution_count": null,
   "id": "8fad7aee-d673-4f48-bb53-4a9e3e9d0bf1",
   "metadata": {},
   "outputs": [],
   "source": [
    "28. Swap the case of each character in a string."
   ]
  },
  {
   "cell_type": "code",
   "execution_count": 19,
   "id": "bbd0fdc3-c48d-41de-a7e7-abb54b418354",
   "metadata": {},
   "outputs": [
    {
     "data": {
      "text/plain": [
       "'HELLO WORLD'"
      ]
     },
     "execution_count": 19,
     "metadata": {},
     "output_type": "execute_result"
    }
   ],
   "source": [
    "s = 'hello world'\n",
    "s.swapcase()"
   ]
  },
  {
   "cell_type": "code",
   "execution_count": null,
   "id": "4a7b38dd-d1e3-49d0-8428-dcf45e6f645f",
   "metadata": {},
   "outputs": [],
   "source": [
    "29. Remove a specific word from a string."
   ]
  },
  {
   "cell_type": "code",
   "execution_count": 40,
   "id": "7f1dad60-5920-42d3-884a-1984e7c58778",
   "metadata": {},
   "outputs": [],
   "source": [
    "s = 'Avichal Saxena'"
   ]
  },
  {
   "cell_type": "code",
   "execution_count": 43,
   "id": "982e92f0-3de3-4487-af64-ff4da552d4f5",
   "metadata": {},
   "outputs": [
    {
     "data": {
      "text/plain": [
       "'Avichal '"
      ]
     },
     "execution_count": 43,
     "metadata": {},
     "output_type": "execute_result"
    }
   ],
   "source": [
    "s1=s.replace('Saxena','')\n",
    "s1"
   ]
  },
  {
   "cell_type": "code",
   "execution_count": null,
   "id": "8508d00f-3c4d-4852-a69a-e45f45a70acf",
   "metadata": {},
   "outputs": [],
   "source": [
    "30. Check if a string is a valid email address."
   ]
  },
  {
   "cell_type": "code",
   "execution_count": 56,
   "id": "5151f4c7-e227-4136-8e2a-04abd5177d72",
   "metadata": {},
   "outputs": [
    {
     "name": "stdin",
     "output_type": "stream",
     "text": [
      "enter the email avichal@gmail.com\n"
     ]
    },
    {
     "name": "stdout",
     "output_type": "stream",
     "text": [
      "email is valid\n"
     ]
    }
   ],
   "source": [
    "email=input('enter the email')\n",
    "name = 'avichal'\n",
    "if email==f'{name}@gmail.com':\n",
    "    print('email is valid')\n",
    "else:\n",
    "    print('email is not valid')"
   ]
  },
  {
   "cell_type": "code",
   "execution_count": null,
   "id": "cf4b0235-4c58-40fc-ba7a-a3db44d9c3de",
   "metadata": {},
   "outputs": [],
   "source": [
    "31. Extract the username from an email address string."
   ]
  },
  {
   "cell_type": "code",
   "execution_count": 58,
   "id": "03c5d1df-0df3-43a0-ac85-62fd1bbdadbe",
   "metadata": {},
   "outputs": [
    {
     "name": "stdout",
     "output_type": "stream",
     "text": [
      "the user name of email address is avichal\n"
     ]
    }
   ],
   "source": [
    "s = 'avichal@gmail.com'\n",
    "s1=s[0:7]\n",
    "print('the user name of email address is',s1)"
   ]
  },
  {
   "cell_type": "code",
   "execution_count": null,
   "id": "21475c28-184d-41f4-8de3-a3653bd420a8",
   "metadata": {},
   "outputs": [],
   "source": [
    "32. Extract the domain name from an email address string."
   ]
  },
  {
   "cell_type": "code",
   "execution_count": 59,
   "id": "8a897e9c-8c59-4fad-9585-629051f7a0dd",
   "metadata": {},
   "outputs": [
    {
     "name": "stdout",
     "output_type": "stream",
     "text": [
      "the domain name of email address is @gmail.com\n"
     ]
    }
   ],
   "source": [
    "s = 'avichal@gmail.com'\n",
    "s1=s[7:89]\n",
    "print('the domain name of email address is',s1)"
   ]
  },
  {
   "cell_type": "code",
   "execution_count": null,
   "id": "6451593e-58ea-4982-865c-9a43156ff776",
   "metadata": {},
   "outputs": [],
   "source": [
    "33. Replace multiple spaces in a string with a single space."
   ]
  },
  {
   "cell_type": "code",
   "execution_count": 77,
   "id": "9269673f-1ff4-4b60-bc77-f3b9f2baf1d6",
   "metadata": {},
   "outputs": [
    {
     "name": "stdout",
     "output_type": "stream",
     "text": [
      "my name is avichal saxena\n"
     ]
    }
   ],
   "source": [
    "s = 'my  name is avichal    saxena'\n",
    "s2 = ' '.join(s.split())\n",
    "print(s2)"
   ]
  },
  {
   "cell_type": "code",
   "execution_count": null,
   "id": "2ee9a5ea-0cc4-43d6-a3e0-2936dacb52d2",
   "metadata": {},
   "outputs": [],
   "source": [
    "34. Check if a string is a valid URL."
   ]
  },
  {
   "cell_type": "code",
   "execution_count": 13,
   "id": "7efc60e0-b9df-47dc-9abd-02e367b3b8a8",
   "metadata": {},
   "outputs": [
    {
     "name": "stdout",
     "output_type": "stream",
     "text": [
      "True\n",
      "False\n"
     ]
    }
   ],
   "source": [
    "from urllib.parse import urlparse\n",
    "def is_validurl(url):\n",
    "    result = urlparse(url)\n",
    "    return all ([result.scheme,result.netloc])\n",
    "    url1= 'https://www.flipkart.com/'\n",
    "    url2= 'invalid url'\n",
    "    result1= is_validurl,(url1)\n",
    "    result2= is_validurl,(url2)\n",
    "print(result1)\n",
    "print(result2)"
   ]
  },
  {
   "cell_type": "code",
   "execution_count": null,
   "id": "aefe69c3-7cc3-4816-9058-b4db0f99be0e",
   "metadata": {},
   "outputs": [],
   "source": [
    "35. Extract the protocol (http or https) from a URL string."
   ]
  },
  {
   "cell_type": "code",
   "execution_count": 14,
   "id": "f46d35b6-df46-446d-9b78-89f25d3082ea",
   "metadata": {},
   "outputs": [
    {
     "name": "stdout",
     "output_type": "stream",
     "text": [
      "Protocol 1: https\n",
      "Protocol 2: http\n",
      "Protocol 3: ftp\n"
     ]
    }
   ],
   "source": [
    "def extract_protocol(url):\n",
    "    # Find the index of the first occurrence of \"://\"\n",
    "    protocol_end = url.find(\"://\")\n",
    "\n",
    "    if protocol_end != -1:\n",
    "        # Extract the protocol from the URL\n",
    "        protocol = url[:protocol_end]\n",
    "        return protocol\n",
    "    else:\n",
    "        return None\n",
    "\n",
    "# Example URL strings\n",
    "url1 = \"https://www.example.com\"\n",
    "url2 = \"http://google.com\"\n",
    "url3 = \"ftp://ftp.example.com\"\n",
    "\n",
    "# Extract protocols\n",
    "protocol1 = extract_protocol(url1)\n",
    "protocol2 = extract_protocol(url2)\n",
    "protocol3 = extract_protocol(url3)\n",
    "\n",
    "# Print extracted protocols\n",
    "print(\"Protocol 1:\", protocol1)\n",
    "print(\"Protocol 2:\", protocol2)\n",
    "print(\"Protocol 3:\", protocol3)"
   ]
  },
  {
   "cell_type": "code",
   "execution_count": null,
   "id": "7ed50cc3-392d-472f-9b94-b95badc22134",
   "metadata": {},
   "outputs": [],
   "source": [
    "36. Find the frequency of each character in a string."
   ]
  },
  {
   "cell_type": "code",
   "execution_count": 15,
   "id": "a0e90fc4-3379-49f6-ab9a-38a7bd88220f",
   "metadata": {},
   "outputs": [
    {
     "name": "stdout",
     "output_type": "stream",
     "text": [
      "Character: 'h', Frequency: 1\n",
      "Character: 'e', Frequency: 1\n",
      "Character: 'l', Frequency: 3\n",
      "Character: 'o', Frequency: 2\n",
      "Character: ' ', Frequency: 1\n",
      "Character: 'w', Frequency: 1\n",
      "Character: 'r', Frequency: 1\n",
      "Character: 'd', Frequency: 1\n"
     ]
    }
   ],
   "source": [
    "def character_frequency(input_string):\n",
    "    frequency = {}  # Create an empty dictionary to store character frequencies\n",
    "\n",
    "    for char in input_string:\n",
    "        if char in frequency:\n",
    "            frequency[char] += 1  # Increment the frequency count if the character is already in the dictionary\n",
    "        else:\n",
    "            frequency[char] = 1   # Initialize the frequency count to 1 if the character is not in the dictionary\n",
    "\n",
    "    return frequency\n",
    "\n",
    "# Example string\n",
    "input_str = \"hello world\"\n",
    "\n",
    "# Calculate character frequencies\n",
    "char_freq = character_frequency(input_str)\n",
    "\n",
    "# Print character frequencies\n",
    "for char, freq in char_freq.items():\n",
    "    print(f\"Character: '{char}', Frequency: {freq}\")"
   ]
  },
  {
   "cell_type": "code",
   "execution_count": null,
   "id": "ad729b08-5d16-40a1-acaf-f619abc56525",
   "metadata": {},
   "outputs": [],
   "source": [
    "37. Remove all punctuation from a string."
   ]
  },
  {
   "cell_type": "code",
   "execution_count": 24,
   "id": "e0b041e7-e503-409d-ac65-fb3ab8c8e393",
   "metadata": {},
   "outputs": [
    {
     "name": "stdout",
     "output_type": "stream",
     "text": [
      "Original string: Hello, world! How's it going?\n",
      "Cleaned string: Hello world Hows it going\n"
     ]
    }
   ],
   "source": [
    "import string\n",
    "\n",
    "def remove_punctuation(input_string):\n",
    "    # Create a translation table to remove punctuation\n",
    "    translator = str.maketrans(\"\", \"\", string.punctuation)\n",
    "\n",
    "    # Use the translation table to remove punctuation from the input string\n",
    "    clean_string = input_string.translate(translator)\n",
    "\n",
    "    return clean_string\n",
    "\n",
    "# Example string with punctuation\n",
    "input_str = \"Hello, world! How's it going?\"\n",
    "\n",
    "# Remove punctuation\n",
    "cleaned_str = remove_punctuation(input_str)\n",
    "\n",
    "# Print the cleaned string\n",
    "print(\"Original string:\", input_str)\n",
    "print(\"Cleaned string:\", cleaned_str)"
   ]
  },
  {
   "cell_type": "code",
   "execution_count": null,
   "id": "2babe978-61de-4846-a9b3-aaef554fb757",
   "metadata": {},
   "outputs": [],
   "source": [
    "38. Check if a string contains only digits."
   ]
  },
  {
   "cell_type": "code",
   "execution_count": 33,
   "id": "06862620-3f81-4ebc-a458-f0669a703d11",
   "metadata": {},
   "outputs": [
    {
     "name": "stdout",
     "output_type": "stream",
     "text": [
      "'12345' contains only digits: True\n",
      "'avichal' contains only digits: False\n",
      "'avi' contains only digits: False\n"
     ]
    }
   ],
   "source": [
    "def contains_only_digits(string):\n",
    "    return  string.isdigit()  \n",
    "s1 = '12345'\n",
    "s2 = 'avichal'\n",
    "s3 = 'avi'\n",
    "result1=contains_only_digits(s1)\n",
    "result2=contains_only_digits(s2)\n",
    "result3=contains_only_digits(s3)\n",
    "print(f\"'{s1}' contains only digits:\", result1)\n",
    "print(f\"'{s2}' contains only digits:\", result2)\n",
    "print(f\"'{s3}' contains only digits:\", result3)"
   ]
  },
  {
   "cell_type": "code",
   "execution_count": null,
   "id": "5d69c2a2-ce8d-4f24-9227-9c5b35d78b68",
   "metadata": {},
   "outputs": [],
   "source": [
    "39. Check if a string contains only alphabets."
   ]
  },
  {
   "cell_type": "code",
   "execution_count": 32,
   "id": "7541e05e-107e-4c56-8ed3-9bbad8428add",
   "metadata": {},
   "outputs": [
    {
     "name": "stdout",
     "output_type": "stream",
     "text": [
      "'12345' contains only alpha: False\n",
      "'avichal' contains only alpha: True\n",
      "'avi saxena' contains only alpha: False\n"
     ]
    }
   ],
   "source": [
    "def contains_only_alpha(string):\n",
    "    return  string.isalpha()  \n",
    "s1 = '12345'\n",
    "s2 = 'avichal'\n",
    "s3 = 'avi saxena'\n",
    "result1=contains_only_alpha(s1)\n",
    "result2=contains_only_alpha(s2)\n",
    "result3=contains_only_alpha(s3)\n",
    "print(f\"'{s1}' contains only alpha:\", result1)\n",
    "print(f\"'{s2}' contains only alpha:\", result2)\n",
    "print(f\"'{s3}' contains only alpha:\", result3)"
   ]
  },
  {
   "cell_type": "code",
   "execution_count": null,
   "id": "1f259f5e-37ec-430b-b142-30e47d806d1c",
   "metadata": {},
   "outputs": [],
   "source": [
    "40. Convert a string to a list of characters."
   ]
  },
  {
   "cell_type": "code",
   "execution_count": 62,
   "id": "635d72a1-25f6-42cc-9f0b-d8310f923009",
   "metadata": {},
   "outputs": [
    {
     "data": {
      "text/plain": [
       "['A', 'V', 'I', 'C', 'H', 'A', 'L']"
      ]
     },
     "execution_count": 62,
     "metadata": {},
     "output_type": "execute_result"
    }
   ],
   "source": [
    "S = 'AVICHAL'\n",
    "list(S)"
   ]
  },
  {
   "cell_type": "code",
   "execution_count": null,
   "id": "9786e493-fe53-4eca-aac5-7f89d898f56a",
   "metadata": {},
   "outputs": [],
   "source": [
    "41 Check if two strings are anagrams."
   ]
  },
  {
   "cell_type": "code",
   "execution_count": 67,
   "id": "baa35a4f-cab4-4068-a441-766c84d00bca",
   "metadata": {},
   "outputs": [
    {
     "name": "stdout",
     "output_type": "stream",
     "text": [
      "they are anagram\n"
     ]
    }
   ],
   "source": [
    "s1 = 'avichal'\n",
    "s2 = 'lahciva'\n",
    "sort1= sorted(s1)\n",
    "sort2=sorted(s2)\n",
    "if sort1==sort2:\n",
    "    print('they are anagram')\n",
    "else:\n",
    "    print('no anagram')"
   ]
  },
  {
   "cell_type": "code",
   "execution_count": null,
   "id": "81473101-729c-46f3-ab91-2029402838bf",
   "metadata": {},
   "outputs": [],
   "source": [
    "41. Check if two strings are anagrams."
   ]
  },
  {
   "cell_type": "code",
   "execution_count": 36,
   "id": "8364fc6c-174c-4369-a3f6-cf2cf593e73c",
   "metadata": {},
   "outputs": [
    {
     "name": "stdout",
     "output_type": "stream",
     "text": [
      "'listen' and 'silent' are anagrams: True\n",
      "'hello' and 'world' are anagrams: False\n"
     ]
    }
   ],
   "source": [
    "def sort(string1,string2):\n",
    "    string1.replace(\" \",\"\").lower()\n",
    "    string2.replace(' ','' ).lower()\n",
    "    return srting1.sorted==string.sorted\n",
    "\n",
    "str1='listen'\n",
    "str2='silent'\n",
    "str3='hello'\n",
    "str4= 'world'\n",
    "result1 = are_anagrams(str1, str2)\n",
    "result2 = are_anagrams(str3, str4)\n",
    "\n",
    "# Print the results\n",
    "print(f\"'{str1}' and '{str2}' are anagrams:\", result1)\n",
    "print(f\"'{str3}' and '{str4}' are anagrams:\", result2)\n"
   ]
  },
  {
   "cell_type": "code",
   "execution_count": null,
   "id": "001120bf-caa1-42a3-87e9-4568f4fe205b",
   "metadata": {},
   "outputs": [],
   "source": [
    "42. Encode a string using a Caesar cipher"
   ]
  },
  {
   "cell_type": "code",
   "execution_count": 47,
   "id": "fdd54401-44d6-4073-b4f8-cebfe3a38d51",
   "metadata": {},
   "outputs": [
    {
     "name": "stdout",
     "output_type": "stream",
     "text": [
      "Encoded text: ehoor, zruog!\n"
     ]
    }
   ],
   "source": [
    "# Define a function named caesar_cipher that encodes a string using a Caesar cipher.\n",
    "def caesar_cipher(text, shift):\n",
    "  \"\"\"\n",
    "  Encodes a string using a Caesar cipher.\n",
    "\n",
    "  Args:\n",
    "    text: The string to encode.\n",
    "    shift: The number of positions to shift each letter.\n",
    "\n",
    "  Returns:\n",
    "    The encoded string.\n",
    "  \"\"\"\n",
    "\n",
    "# Initialize an empty string to store the encoded text.\n",
    "  encoded_text = \"\"\n",
    "\n",
    "  # Iterate through each character in the input text.\n",
    "  for char in text:\n",
    "    # Check if the character is alphabetic.\n",
    "    if char.isalpha():\n",
    "      # Calculate the encoded character's Unicode code point value by shifting it by the specified amount.\n",
    "      # Ensure the value wraps around within the lowercase alphabet range (a-z).\n",
    "      encoded_char = chr((ord(char) + shift - ord('a')) % 26 + ord('a'))\n",
    "    else:\n",
    "      # Keep non-alphabetic characters unchanged.\n",
    "      encoded_char = char\n",
    "\n",
    "    # Add the encoded character to the encoded text.\n",
    "    encoded_text += encoded_char\n",
    "\n",
    "  # Return the resulting encoded text.\n",
    "  return encoded_text\n",
    "\n",
    "# Define the input text and the shift value for encoding.\n",
    "text = \"Hello, world!\"\n",
    "shift = 3\n",
    "\n",
    "# Call the caesar_cipher function to encode the text using the specified shift.\n",
    "encoded_text = caesar_cipher(text, shift)\n",
    "\n",
    "# Print the encoded text.\n",
    "print(\"Encoded text:\", encoded_text)"
   ]
  },
  {
   "cell_type": "code",
   "execution_count": null,
   "id": "dde7e75c-f37e-45bb-b95e-7fdead6b802c",
   "metadata": {},
   "outputs": [],
   "source": [
    "43. Decode a Caesar cipher encoded string."
   ]
  },
  {
   "cell_type": "code",
   "execution_count": 48,
   "id": "bb55818d-132b-4152-b347-2beb1cb8a52e",
   "metadata": {},
   "outputs": [
    {
     "name": "stdout",
     "output_type": "stream",
     "text": [
      "Decoded text: ilmm, world!\n"
     ]
    }
   ],
   "source": [
    "# Define a function to decode a string using a Caesar cipher\n",
    "def caesar_cipher_decoder(text, shift):\n",
    "    \"\"\"\n",
    "    Decodes a string using a Caesar cipher.\n",
    "\n",
    "    Args:\n",
    "        text: The string to decode.\n",
    "        shift: The number of positions to shift each letter.\n",
    "\n",
    "    Returns:\n",
    "        The decoded string.\n",
    "    \"\"\"\n",
    "\n",
    "    # Initialize an empty string to store the decoded text\n",
    "    decoded_text = \"\"\n",
    "\n",
    "    # Loop through each character in the input text\n",
    "    for char in text:\n",
    "        # Check if the character is an alphabetic character\n",
    "        if char.isalpha():\n",
    "            # Calculate the decoded character using the shift value\n",
    "            decoded_char = chr((ord(char) - shift - ord('a')) % 26 + ord('a'))\n",
    "        else:\n",
    "            # If the character is not alphabetic, keep it unchanged\n",
    "            decoded_char = char\n",
    "\n",
    "        # Add the decoded character to the decoded text\n",
    "        decoded_text += decoded_char\n",
    "\n",
    "    # Return the fully decoded text\n",
    "    return decoded_text\n",
    "\n",
    "# Example input\n",
    "text = \"lopp, zruog!\"\n",
    "shift = 3\n",
    "\n",
    "# Call the caesar_cipher_decoder function to decode the input text\n",
    "decoded_text = caesar_cipher_decoder(text, shift)\n",
    "\n",
    "# Print the decoded text\n",
    "print(\"Decoded text:\", decoded_text)"
   ]
  },
  {
   "cell_type": "code",
   "execution_count": null,
   "id": "7fe3896e-827e-4581-96ae-3c1c4369153a",
   "metadata": {},
   "outputs": [],
   "source": [
    "44. Find the most frequent word in a string"
   ]
  },
  {
   "cell_type": "code",
   "execution_count": 51,
   "id": "bb883829-bc6f-484e-82f2-3ac6f696c009",
   "metadata": {},
   "outputs": [
    {
     "name": "stdout",
     "output_type": "stream",
     "text": [
      "Most frequent word: hello\n"
     ]
    }
   ],
   "source": [
    "import re\n",
    "from collections import Counter\n",
    "\n",
    "def most_frequent_word(input_string):\n",
    "    # Remove punctuation and convert to lowercase\n",
    "    clean_string = re.sub(r'[^\\w\\s]', '', input_string).lower()\n",
    "\n",
    "    # Split the string into words\n",
    "    words = clean_string.split()\n",
    "\n",
    "    # Use Counter to count word frequencies\n",
    "    word_counter = Counter(words)\n",
    "\n",
    "    # Find the most common word\n",
    "    most_common_word = word_counter.most_common(1)[0][0]\n",
    "\n",
    "\n",
    "\n",
    "\n",
    "    return most_common_word\n",
    "\n",
    "# Example string\n",
    "input_str = \"Hello world, hello there! How's the world?\"\n",
    "\n",
    "# Find the most frequent word\n",
    "most_common = most_frequent_word(input_str)\n",
    "\n",
    "# Print the result\n",
    "print(\"Most frequent word:\", most_common)"
   ]
  },
  {
   "cell_type": "code",
   "execution_count": null,
   "id": "0da81f98-ce0b-459a-9e2e-b8888e6b68fa",
   "metadata": {},
   "outputs": [],
   "source": [
    "45. Find all unique words in a string."
   ]
  },
  {
   "cell_type": "code",
   "execution_count": 52,
   "id": "4dfa717c-f8df-46e2-bb56-f72f7c1e2447",
   "metadata": {},
   "outputs": [
    {
     "name": "stdout",
     "output_type": "stream",
     "text": [
      "Unique words: {'world', 'the', 'hows', 'there', 'hello'}\n"
     ]
    }
   ],
   "source": [
    "import re\n",
    "\n",
    "def unique_words(input_string):\n",
    "    # Remove punctuation and convert to lowercase\n",
    "    clean_string = re.sub(r'[^\\w\\s]', '', input_string).lower()\n",
    "\n",
    "    # Split the string into words and convert to a set for uniqueness\n",
    "    words = set(clean_string.split())\n",
    "\n",
    "    return words\n",
    "\n",
    "# Example string\n",
    "input_str = \"Hello world, hello there! How's the world?\"\n",
    "\n",
    "# Find unique words\n",
    "unique_word_set = unique_words(input_str)\n",
    "\n",
    "# Print the result\n",
    "print(\"Unique words:\", unique_word_set)"
   ]
  },
  {
   "cell_type": "code",
   "execution_count": null,
   "id": "66b66d6d-871b-4b2b-b3e2-52f56612a078",
   "metadata": {},
   "outputs": [],
   "source": [
    "46. Count the number of syllables in a string."
   ]
  },
  {
   "cell_type": "code",
   "execution_count": 53,
   "id": "1676376f-bcd6-4c2f-96d1-855e02e77bf4",
   "metadata": {},
   "outputs": [
    {
     "name": "stdout",
     "output_type": "stream",
     "text": [
      "'hello' has 2 syllables.\n",
      "'banana' has 3 syllables.\n",
      "'syllable' has 3 syllables.\n"
     ]
    }
   ],
   "source": [
    "import re\n",
    "\n",
    "def count_syllables(word):\n",
    "    # Count vowel groups using regular expression\n",
    "    vowel_groups = re.findall(r'[aeiouy]+', word, re.IGNORECASE)\n",
    "\n",
    "    return len(vowel_groups)\n",
    "\n",
    "# Example words\n",
    "word1 = \"hello\"\n",
    "word2 = \"banana\"\n",
    "word3 = \"syllable\"\n",
    "\n",
    "# Count syllables\n",
    "syllables1 = count_syllables(word1)\n",
    "syllables2 = count_syllables(word2)\n",
    "syllables3 = count_syllables(word3)\n",
    "\n",
    "# Print the results\n",
    "print(f\"'{word1}' has {syllables1} syllables.\")\n",
    "print(f\"'{word2}' has {syllables2} syllables.\")\n",
    "print(f\"'{word3}' has {syllables3} syllables.\")"
   ]
  },
  {
   "cell_type": "code",
   "execution_count": null,
   "id": "1a11173b-bdb5-4ad9-a43a-b6603fb63248",
   "metadata": {},
   "outputs": [],
   "source": [
    "47. Check if a string contains any special characters."
   ]
  },
  {
   "cell_type": "code",
   "execution_count": 54,
   "id": "ee580799-f37a-4cd9-9447-02ce8aa3467c",
   "metadata": {},
   "outputs": [
    {
     "name": "stdout",
     "output_type": "stream",
     "text": [
      "'Hello, world!' contains special characters: True\n",
      "'This is a test.' contains special characters: True\n",
      "'Special@Characters' contains special characters: True\n"
     ]
    }
   ],
   "source": [
    "import re\n",
    "\n",
    "def contains_special_characters(input_string):\n",
    "    # Define a regular expression pattern to match special characters\n",
    "    pattern = re.compile(r'[!@#$%^&*()_+{}\\[\\]:;<>,.?~\\\\/]')\n",
    "\n",
    "    # Use the search() method to find a match\n",
    "    match = pattern.search(input_string)\n",
    "\n",
    "    # Return True if a match is found, False otherwise\n",
    "    return bool(match)\n",
    "\n",
    "# Example strings\n",
    "string1 = \"Hello, world!\"\n",
    "string2 = \"This is a test.\"\n",
    "string3 = \"Special@Characters\"\n",
    "\n",
    "# Check if strings contain special characters\n",
    "result1 = contains_special_characters(string1)\n",
    "result2 = contains_special_characters(string2)\n",
    "result3 = contains_special_characters(string3)\n",
    "\n",
    "# Print the results\n",
    "print(f\"'{string1}' contains special characters:\", result1)\n",
    "print(f\"'{string2}' contains special characters:\", result2)\n",
    "print(f\"'{string3}' contains special characters:\", result3)"
   ]
  },
  {
   "cell_type": "code",
   "execution_count": null,
   "id": "08b52bdc-3830-4d9b-bc65-d589676afa54",
   "metadata": {},
   "outputs": [],
   "source": [
    "48. Remove the nth word from a string."
   ]
  },
  {
   "cell_type": "code",
   "execution_count": 55,
   "id": "b4deab5b-c844-4e72-966e-7f4f97bd5992",
   "metadata": {},
   "outputs": [
    {
     "name": "stdout",
     "output_type": "stream",
     "text": [
      "Original string: This is an example sentence to test the function.\n",
      "Modified string: This is an sentence to test the function.\n",
      "Removed word: example\n"
     ]
    }
   ],
   "source": [
    "def remove_nth_word(input_string, n):\n",
    "    # Split the input string into words\n",
    "    words = input_string.split()\n",
    "\n",
    "    # Check if n is within a valid range\n",
    "    if n >= 1 and n <= len(words):\n",
    "        # Remove the nth word by excluding it from the words list\n",
    "        removed_word = words.pop(n - 1)\n",
    "\n",
    "        # Join the remaining words to form the modified string\n",
    "        modified_string = ' '.join(words)\n",
    "\n",
    "        return modified_string, removed_word\n",
    "    else:\n",
    "        return None, None\n",
    "\n",
    "# Example string and n value\n",
    "input_str = \"This is an example sentence to test the function.\"\n",
    "n_value = 4\n",
    "\n",
    "# Remove the nth word\n",
    "modified_str, removed_word = remove_nth_word(input_str, n_value)\n",
    "\n",
    "# Print the results\n",
    "print(\"Original string:\", input_str)\n",
    "if modified_str is not None:\n",
    "    print(\"Modified string:\", modified_str)\n",
    "    print(\"Removed word:\", removed_word)\n",
    "else:\n",
    "    print(\"Invalid n value.\")"
   ]
  },
  {
   "cell_type": "code",
   "execution_count": null,
   "id": "5f3dc520-2f26-493c-b88d-dec68775385d",
   "metadata": {},
   "outputs": [],
   "source": [
    "50. Convert a CSV string to a list of lists.\n"
   ]
  },
  {
   "cell_type": "code",
   "execution_count": 56,
   "id": "f86b8a0e-ff04-4b42-a22a-12af6a27735c",
   "metadata": {},
   "outputs": [
    {
     "name": "stdout",
     "output_type": "stream",
     "text": [
      "['Name', ' Age', ' Country']\n",
      "['John', ' 25', ' USA']\n",
      "['Alice', ' 30', ' Canada']\n",
      "['Bob', ' 22', ' UK']\n"
     ]
    }
   ],
   "source": [
    "def csv_string_to_list(csv_string):\n",
    "    # Split the CSV string into lines\n",
    "    lines = csv_string.split('\\n')\n",
    "\n",
    "    # Initialize an empty list to store the result\n",
    "    result = []\n",
    "\n",
    "    for line in lines:\n",
    "        # Split each line into fields using comma as the delimiter\n",
    "        fields = line.split(',')\n",
    "\n",
    "        # Append the fields to the result list as a row\n",
    "        result.append(fields)\n",
    "\n",
    "    return result\n",
    "\n",
    "# Example CSV string\n",
    "csv_data = \"Name, Age, Country\\nJohn, 25, USA\\nAlice, 30, Canada\\nBob, 22, UK\"\n",
    "\n",
    "# Convert CSV string to a list of lists\n",
    "list_of_lists = csv_string_to_list(csv_data)\n",
    "\n",
    "# Print the result\n",
    "for row in list_of_lists:\n",
    "    print(row)"
   ]
  },
  {
   "cell_type": "markdown",
   "id": "4ff33997-d0e9-4059-b710-56d9117003cf",
   "metadata": {},
   "source": [
    "## List Based Practice Problem :"
   ]
  },
  {
   "cell_type": "code",
   "execution_count": null,
   "id": "44fe411c-9f60-4cfe-8729-de67c86f3d1f",
   "metadata": {},
   "outputs": [],
   "source": [
    "1. Create a list with integers from 1 to 10."
   ]
  },
  {
   "cell_type": "code",
   "execution_count": 1,
   "id": "af761bf4-5600-4ce8-a5b2-340c27f560be",
   "metadata": {},
   "outputs": [
    {
     "data": {
      "text/plain": [
       "[1, 2, 3, 4, 5, 6, 7, 8, 9, 10]"
      ]
     },
     "execution_count": 1,
     "metadata": {},
     "output_type": "execute_result"
    }
   ],
   "source": [
    "l = [1,2,3,4,5,6,7,8,9,10]\n",
    "l"
   ]
  },
  {
   "cell_type": "code",
   "execution_count": null,
   "id": "b3c3a28c-5029-48c5-b726-edead2c10f7c",
   "metadata": {},
   "outputs": [],
   "source": [
    "2. Find the length of a list without using the `len()` function."
   ]
  },
  {
   "cell_type": "code",
   "execution_count": 2,
   "id": "b0fcb940-0ca0-4e02-a80d-b557130dc4d8",
   "metadata": {},
   "outputs": [
    {
     "data": {
      "text/plain": [
       "[1, 2, 3, 4, 5, 6, 7, 8, 9, 10]"
      ]
     },
     "execution_count": 2,
     "metadata": {},
     "output_type": "execute_result"
    }
   ],
   "source": [
    "l"
   ]
  },
  {
   "cell_type": "code",
   "execution_count": 5,
   "id": "ac511d95-aa18-49c4-8a7a-a82d22c94fa9",
   "metadata": {},
   "outputs": [
    {
     "name": "stdout",
     "output_type": "stream",
     "text": [
      "the length of the list is  10\n"
     ]
    }
   ],
   "source": [
    "count = 0\n",
    "for i in l:\n",
    "    count=count+1\n",
    "print('the length of the list is ',count)"
   ]
  },
  {
   "cell_type": "code",
   "execution_count": null,
   "id": "669b1677-7fd9-4270-9686-b7c879bd392d",
   "metadata": {},
   "outputs": [],
   "source": [
    "3. Append an element to the end of a list."
   ]
  },
  {
   "cell_type": "code",
   "execution_count": 16,
   "id": "d80d28aa-10bf-456c-bf1e-8748db26224f",
   "metadata": {},
   "outputs": [],
   "source": [
    "l23=[1,2,3,5]\n",
    "l24=l.append(6)"
   ]
  },
  {
   "cell_type": "code",
   "execution_count": 17,
   "id": "a99199b0-c729-45cb-bc1f-9b2afada581e",
   "metadata": {},
   "outputs": [],
   "source": [
    "l24"
   ]
  },
  {
   "cell_type": "markdown",
   "id": "dcb3eee5-3ade-454a-bf3a-13349fe3c041",
   "metadata": {},
   "source": [
    "4. Insert an element at a specific index in a list."
   ]
  },
  {
   "cell_type": "code",
   "execution_count": 5,
   "id": "4f9fb9a3-160e-40db-a3ec-574495278c88",
   "metadata": {},
   "outputs": [],
   "source": [
    "l =[1,2,3,4,5,6]\n",
    "l.insert(2,'avi')"
   ]
  },
  {
   "cell_type": "code",
   "execution_count": 6,
   "id": "778bd7c1-8a7d-46cd-97ad-b7eb9d322aa8",
   "metadata": {},
   "outputs": [
    {
     "data": {
      "text/plain": [
       "[1, 2, 'avi', 3, 4, 5, 6]"
      ]
     },
     "execution_count": 6,
     "metadata": {},
     "output_type": "execute_result"
    }
   ],
   "source": [
    "l"
   ]
  },
  {
   "cell_type": "code",
   "execution_count": null,
   "id": "516d48d5-ba59-42f7-b3c6-0e08c79569aa",
   "metadata": {},
   "outputs": [],
   "source": [
    "5. Remove an element from a list by its value."
   ]
  },
  {
   "cell_type": "code",
   "execution_count": 18,
   "id": "506c46b1-4a77-4e9e-8b82-3eb8695c128a",
   "metadata": {},
   "outputs": [],
   "source": [
    "l=[1,2,34,4,5,6,7]\n",
    "l.remove(34)"
   ]
  },
  {
   "cell_type": "code",
   "execution_count": 19,
   "id": "368ab047-70ca-42aa-b4a9-24999c59c185",
   "metadata": {},
   "outputs": [
    {
     "data": {
      "text/plain": [
       "[1, 2, 4, 5, 6, 7]"
      ]
     },
     "execution_count": 19,
     "metadata": {},
     "output_type": "execute_result"
    }
   ],
   "source": [
    "l"
   ]
  },
  {
   "cell_type": "code",
   "execution_count": null,
   "id": "f493d6a5-1d73-4091-ad15-15073946468b",
   "metadata": {},
   "outputs": [],
   "source": [
    "6. Remove an element from a list by its index."
   ]
  },
  {
   "cell_type": "code",
   "execution_count": 20,
   "id": "f31fdd24-41f0-4707-ac1c-a7cdcf8bc398",
   "metadata": {},
   "outputs": [
    {
     "data": {
      "text/plain": [
       "[1, 2, 4, 5, 6, 7]"
      ]
     },
     "execution_count": 20,
     "metadata": {},
     "output_type": "execute_result"
    }
   ],
   "source": [
    "l"
   ]
  },
  {
   "cell_type": "code",
   "execution_count": 21,
   "id": "837494bf-c7e0-4818-a988-96f920214104",
   "metadata": {},
   "outputs": [
    {
     "data": {
      "text/plain": [
       "1"
      ]
     },
     "execution_count": 21,
     "metadata": {},
     "output_type": "execute_result"
    }
   ],
   "source": [
    "l.pop(0)"
   ]
  },
  {
   "cell_type": "code",
   "execution_count": 22,
   "id": "e084ea6f-4f6b-4aee-8c73-6bbea6835da8",
   "metadata": {},
   "outputs": [
    {
     "data": {
      "text/plain": [
       "[2, 4, 5, 6, 7]"
      ]
     },
     "execution_count": 22,
     "metadata": {},
     "output_type": "execute_result"
    }
   ],
   "source": [
    "l"
   ]
  },
  {
   "cell_type": "code",
   "execution_count": null,
   "id": "05c794df-7f3b-4938-bc0b-2b423b4a145f",
   "metadata": {},
   "outputs": [],
   "source": [
    "7. Check if an element exists in a list."
   ]
  },
  {
   "cell_type": "code",
   "execution_count": 23,
   "id": "24ed1ccb-b71a-4d0c-8df5-7d90f81c83bc",
   "metadata": {},
   "outputs": [],
   "source": [
    "l = [1,2,3,4,5,6,7]"
   ]
  },
  {
   "cell_type": "code",
   "execution_count": 30,
   "id": "f94bd8e3-ec6d-439e-9200-1175b09e1a98",
   "metadata": {},
   "outputs": [
    {
     "name": "stdout",
     "output_type": "stream",
     "text": [
      "exist\n"
     ]
    }
   ],
   "source": [
    "a = 1\n",
    "if a in l:\n",
    "    print('exist')\n",
    "else:\n",
    "    print('not exists')"
   ]
  },
  {
   "cell_type": "code",
   "execution_count": null,
   "id": "26ff8965-e6c0-4eb7-a301-07d1a95942bd",
   "metadata": {},
   "outputs": [],
   "source": [
    "8. Find the index of the first occurrence of an element in a list."
   ]
  },
  {
   "cell_type": "code",
   "execution_count": 31,
   "id": "64c2c805-b452-4ecb-bc77-2c28e965605d",
   "metadata": {},
   "outputs": [
    {
     "data": {
      "text/plain": [
       "1"
      ]
     },
     "execution_count": 31,
     "metadata": {},
     "output_type": "execute_result"
    }
   ],
   "source": [
    "l =[1,2,3,6,7]\n",
    "l[0]"
   ]
  },
  {
   "cell_type": "code",
   "execution_count": null,
   "id": "204c343a-bf06-4ee7-a677-3b5b000e83de",
   "metadata": {},
   "outputs": [],
   "source": [
    "9. Count the occurrences of an element in a list."
   ]
  },
  {
   "cell_type": "code",
   "execution_count": 33,
   "id": "238caa46-2fb9-4e22-89bf-9cd3506f935e",
   "metadata": {},
   "outputs": [
    {
     "data": {
      "text/plain": [
       "2"
      ]
     },
     "execution_count": 33,
     "metadata": {},
     "output_type": "execute_result"
    }
   ],
   "source": [
    "l = [1,1,1,3,3,4,5]\n",
    "l.count(3)"
   ]
  },
  {
   "cell_type": "code",
   "execution_count": null,
   "id": "a1052830-3342-4ab8-966f-08bad45526a5",
   "metadata": {},
   "outputs": [],
   "source": [
    "10. Reverse the order of elements in a list."
   ]
  },
  {
   "cell_type": "code",
   "execution_count": 34,
   "id": "62d19d0e-acd2-4854-afba-7e94387cb3db",
   "metadata": {},
   "outputs": [
    {
     "data": {
      "text/plain": [
       "[1, 1, 1, 3, 3, 4, 5]"
      ]
     },
     "execution_count": 34,
     "metadata": {},
     "output_type": "execute_result"
    }
   ],
   "source": [
    "l"
   ]
  },
  {
   "cell_type": "code",
   "execution_count": 35,
   "id": "229b9136-c855-4a63-9bdd-d2a0379e3967",
   "metadata": {},
   "outputs": [
    {
     "data": {
      "text/plain": [
       "[5, 4, 3, 3, 1, 1, 1]"
      ]
     },
     "execution_count": 35,
     "metadata": {},
     "output_type": "execute_result"
    }
   ],
   "source": [
    "l[::-1]"
   ]
  },
  {
   "cell_type": "code",
   "execution_count": null,
   "id": "8512672f-7361-4091-9f0e-e175a04382d2",
   "metadata": {},
   "outputs": [],
   "source": [
    "11. Sort a list in ascending order."
   ]
  },
  {
   "cell_type": "code",
   "execution_count": 42,
   "id": "adfabbac-c6f8-4c9b-92a3-9f5f71803880",
   "metadata": {
    "tags": []
   },
   "outputs": [],
   "source": [
    "l2=[22,4454,5,56565,5,6,56,5]"
   ]
  },
  {
   "cell_type": "code",
   "execution_count": 43,
   "id": "39bf9e28-ef96-4e1b-9e21-a2805439ae37",
   "metadata": {},
   "outputs": [],
   "source": [
    "l2.sort()"
   ]
  },
  {
   "cell_type": "code",
   "execution_count": 44,
   "id": "d16aa9dc-c32c-4b13-ab32-8c7104ab9d69",
   "metadata": {},
   "outputs": [
    {
     "data": {
      "text/plain": [
       "[5, 5, 5, 6, 22, 56, 4454, 56565]"
      ]
     },
     "execution_count": 44,
     "metadata": {},
     "output_type": "execute_result"
    }
   ],
   "source": [
    "l2"
   ]
  },
  {
   "cell_type": "code",
   "execution_count": null,
   "id": "08dbcf7a-94bf-46d4-b8a0-7b909816d2af",
   "metadata": {},
   "outputs": [],
   "source": [
    "12. Sort a list in descending order."
   ]
  },
  {
   "cell_type": "code",
   "execution_count": 45,
   "id": "d5acadf9-9766-4b69-8c8c-ddfa3c7730f1",
   "metadata": {},
   "outputs": [
    {
     "data": {
      "text/plain": [
       "[5, 5, 5, 6, 22, 56, 4454, 56565]"
      ]
     },
     "execution_count": 45,
     "metadata": {},
     "output_type": "execute_result"
    }
   ],
   "source": [
    "l2"
   ]
  },
  {
   "cell_type": "code",
   "execution_count": 46,
   "id": "5220fb97-251e-4183-83c6-1474f0535a6c",
   "metadata": {},
   "outputs": [],
   "source": [
    "l2.sort(reverse=True)"
   ]
  },
  {
   "cell_type": "code",
   "execution_count": 47,
   "id": "99bc4162-93a4-46dd-b189-a6be5299133f",
   "metadata": {},
   "outputs": [
    {
     "data": {
      "text/plain": [
       "[56565, 4454, 56, 22, 6, 5, 5, 5]"
      ]
     },
     "execution_count": 47,
     "metadata": {},
     "output_type": "execute_result"
    }
   ],
   "source": [
    "l2"
   ]
  },
  {
   "cell_type": "code",
   "execution_count": null,
   "id": "b024581c-0733-4db1-99b7-d2ab77e3bfa4",
   "metadata": {},
   "outputs": [],
   "source": [
    "13. Create a list of even numbers from 1 to 20."
   ]
  },
  {
   "cell_type": "code",
   "execution_count": 52,
   "id": "6660aefd-1ceb-4bc9-abee-2446d00eb543",
   "metadata": {},
   "outputs": [
    {
     "name": "stdout",
     "output_type": "stream",
     "text": [
      "[0, 2, 4, 6, 8, 10, 12, 14, 16, 18, 20]\n"
     ]
    }
   ],
   "source": [
    "l2=[]\n",
    "for i in range(0,21):\n",
    "    if i%2==0:\n",
    "        l2.append(i)\n",
    "print(l2)\n",
    "        "
   ]
  },
  {
   "cell_type": "code",
   "execution_count": 53,
   "id": "b3b8101c-d7c7-416b-94a9-174f352b617d",
   "metadata": {},
   "outputs": [
    {
     "data": {
      "text/plain": [
       "[0, 2, 4, 6, 8, 10, 12, 14, 16, 18, 20]"
      ]
     },
     "execution_count": 53,
     "metadata": {},
     "output_type": "execute_result"
    }
   ],
   "source": [
    "l2"
   ]
  },
  {
   "cell_type": "code",
   "execution_count": null,
   "id": "dfc758d8-2854-4df2-a35f-8c61ed5a2ce4",
   "metadata": {},
   "outputs": [],
   "source": [
    "14. Create a list of odd numbers from 1 to 20."
   ]
  },
  {
   "cell_type": "code",
   "execution_count": 54,
   "id": "202b25b3-af1f-4635-85e6-a1b4505cd872",
   "metadata": {},
   "outputs": [
    {
     "name": "stdout",
     "output_type": "stream",
     "text": [
      "[1, 3, 5, 7, 9, 11, 13, 15, 17, 19]\n"
     ]
    }
   ],
   "source": [
    "l3=[]\n",
    "for i in range(0,21):\n",
    "    if i%2!=0:\n",
    "        l3.append(i)\n",
    "print(l3)"
   ]
  },
  {
   "cell_type": "code",
   "execution_count": 55,
   "id": "8995402d-5ae6-4a79-8337-ef84e9999ef1",
   "metadata": {},
   "outputs": [
    {
     "data": {
      "text/plain": [
       "[1, 3, 5, 7, 9, 11, 13, 15, 17, 19]"
      ]
     },
     "execution_count": 55,
     "metadata": {},
     "output_type": "execute_result"
    }
   ],
   "source": [
    "l3"
   ]
  },
  {
   "cell_type": "code",
   "execution_count": null,
   "id": "c85e7a41-11dc-42a7-be38-3876d88b90a8",
   "metadata": {},
   "outputs": [],
   "source": [
    "15. Find the sum of all elements in a list."
   ]
  },
  {
   "cell_type": "code",
   "execution_count": 56,
   "id": "a2df0476-9147-4057-90c7-1d7b3e782985",
   "metadata": {},
   "outputs": [
    {
     "data": {
      "text/plain": [
       "28"
      ]
     },
     "execution_count": 56,
     "metadata": {},
     "output_type": "execute_result"
    }
   ],
   "source": [
    "l = [1,2,3,4,5,6,7]\n",
    "sum(l)"
   ]
  },
  {
   "cell_type": "code",
   "execution_count": null,
   "id": "419c2ab0-1719-4d52-85bb-17e309fccf45",
   "metadata": {},
   "outputs": [],
   "source": [
    "16. Find the maximum value in a list."
   ]
  },
  {
   "cell_type": "code",
   "execution_count": 57,
   "id": "a3048c8e-6123-4bf8-ae33-232263e65429",
   "metadata": {},
   "outputs": [
    {
     "data": {
      "text/plain": [
       "6"
      ]
     },
     "execution_count": 57,
     "metadata": {},
     "output_type": "execute_result"
    }
   ],
   "source": [
    "l = [1,2,3,4,5,6]\n",
    "max(l)"
   ]
  },
  {
   "cell_type": "code",
   "execution_count": null,
   "id": "f200b76e-c30e-4b28-a01b-8da386f9bf4e",
   "metadata": {},
   "outputs": [],
   "source": [
    "17. Find the minimum value in a list."
   ]
  },
  {
   "cell_type": "code",
   "execution_count": 58,
   "id": "371d26e4-c8f7-4b0a-99b9-0bc64c41a491",
   "metadata": {},
   "outputs": [
    {
     "data": {
      "text/plain": [
       "[1, 2, 3, 4, 5, 6]"
      ]
     },
     "execution_count": 58,
     "metadata": {},
     "output_type": "execute_result"
    }
   ],
   "source": [
    "l"
   ]
  },
  {
   "cell_type": "code",
   "execution_count": 59,
   "id": "8bd9c108-b611-42f5-a320-a01e14f96483",
   "metadata": {},
   "outputs": [
    {
     "data": {
      "text/plain": [
       "1"
      ]
     },
     "execution_count": 59,
     "metadata": {},
     "output_type": "execute_result"
    }
   ],
   "source": [
    "min(l)"
   ]
  },
  {
   "cell_type": "code",
   "execution_count": null,
   "id": "b0cdc9d9-0fa2-4f7c-b578-a88e354f49c6",
   "metadata": {},
   "outputs": [],
   "source": [
    "18. Create a list of squares of numbers from 1 to 10."
   ]
  },
  {
   "cell_type": "code",
   "execution_count": 62,
   "id": "cba56c50-f1b9-4c58-94cc-655331d4ee09",
   "metadata": {},
   "outputs": [
    {
     "data": {
      "text/plain": [
       "[1, 4, 9, 16, 25, 36, 49, 64, 81, 100]"
      ]
     },
     "execution_count": 62,
     "metadata": {},
     "output_type": "execute_result"
    }
   ],
   "source": [
    "import numpy as np\n",
    "l3 = [1,2,3,4,5,6,7,8,9,10] \n",
    "list(np.square(l3))\n",
    "        "
   ]
  },
  {
   "cell_type": "code",
   "execution_count": null,
   "id": "915b7a3f-ac2d-4866-a376-89a722497044",
   "metadata": {},
   "outputs": [],
   "source": [
    "19. Create a list of random numbers."
   ]
  },
  {
   "cell_type": "code",
   "execution_count": 19,
   "id": "90425f90-91b8-40c8-b73a-2cc8abaed45d",
   "metadata": {},
   "outputs": [
    {
     "name": "stdout",
     "output_type": "stream",
     "text": [
      "[0, 1, 2, 3, 4, 5, 6, 7, 8, 9]\n"
     ]
    }
   ],
   "source": [
    "\n",
    "l2=[]\n",
    "for i in range(0,10):\n",
    "    l2.append(i)\n",
    "print(l2)    "
   ]
  },
  {
   "cell_type": "code",
   "execution_count": null,
   "id": "7554d6e8-24bb-44a2-b88e-4e4280aa9922",
   "metadata": {},
   "outputs": [],
   "source": [
    "20. Remove duplicates from a list.       "
   ]
  },
  {
   "cell_type": "code",
   "execution_count": 20,
   "id": "77741e70-9b4a-49ba-98aa-3b81a8fa8960",
   "metadata": {},
   "outputs": [],
   "source": [
    "l =[11,2,3,3,4,5,5]"
   ]
  },
  {
   "cell_type": "code",
   "execution_count": 22,
   "id": "94d03d78-5c2b-4db2-8cf0-70454cb884e8",
   "metadata": {},
   "outputs": [],
   "source": [
    "l2=set(l)"
   ]
  },
  {
   "cell_type": "code",
   "execution_count": 23,
   "id": "5b62321f-1f30-446d-b38c-6e570d32c7d6",
   "metadata": {},
   "outputs": [
    {
     "data": {
      "text/plain": [
       "[2, 3, 4, 5, 11]"
      ]
     },
     "execution_count": 23,
     "metadata": {},
     "output_type": "execute_result"
    }
   ],
   "source": [
    "list(l2)"
   ]
  },
  {
   "cell_type": "code",
   "execution_count": null,
   "id": "5d935f40-c566-4b3a-a135-cf2cf2758a71",
   "metadata": {},
   "outputs": [],
   "source": [
    "21. Find the common elements between two lists."
   ]
  },
  {
   "cell_type": "code",
   "execution_count": 5,
   "id": "1aed4fd6-a2ba-439b-9857-e606ac76e45c",
   "metadata": {},
   "outputs": [],
   "source": [
    "a =[1,2,3,4,5]\n",
    "b=[1,2,55,665,5]"
   ]
  },
  {
   "cell_type": "code",
   "execution_count": 7,
   "id": "a53d0a72-6f01-49f0-ac41-4c770fa1e091",
   "metadata": {},
   "outputs": [
    {
     "name": "stdout",
     "output_type": "stream",
     "text": [
      "[1, 2, 5]\n"
     ]
    }
   ],
   "source": [
    "c = [value for value in a if value in b] \n",
    "print(c)\n",
    "\n"
   ]
  },
  {
   "cell_type": "code",
   "execution_count": null,
   "id": "e98ac4e1-6003-4ab4-8080-8c674c5a3214",
   "metadata": {},
   "outputs": [],
   "source": [
    "22 Find the difference between two lists.. "
   ]
  },
  {
   "cell_type": "code",
   "execution_count": 61,
   "id": "04a9f879-ae06-4fd4-b6a0-3ef65b07fc60",
   "metadata": {},
   "outputs": [],
   "source": [
    "a = [1,2,3,4,5,6]\n",
    "b = [1,2,3,3,4]"
   ]
  },
  {
   "cell_type": "code",
   "execution_count": 62,
   "id": "6ba3de4f-9378-4043-a181-d3980b2d758f",
   "metadata": {},
   "outputs": [
    {
     "name": "stdout",
     "output_type": "stream",
     "text": [
      "[5, 6]\n"
     ]
    }
   ],
   "source": [
    "c=[]\n",
    "for element in a:\n",
    "    if element not in b:\n",
    "        c.append(element)\n",
    "print(c)\n",
    "        "
   ]
  },
  {
   "cell_type": "markdown",
   "id": "f3c40071-59f8-4918-80a8-55dc35e94187",
   "metadata": {},
   "source": [
    "23. Merge two lists."
   ]
  },
  {
   "cell_type": "code",
   "execution_count": 15,
   "id": "098ba652-146a-4069-bbd4-b56be2db63d6",
   "metadata": {},
   "outputs": [],
   "source": [
    "l = [1,2,3,4]\n",
    "l2 =[1,2,3]"
   ]
  },
  {
   "cell_type": "code",
   "execution_count": 16,
   "id": "bb47ec9b-5365-4011-8bdd-bd5e70000c6b",
   "metadata": {},
   "outputs": [
    {
     "data": {
      "text/plain": [
       "[1, 2, 3, 4, 1, 2, 3]"
      ]
     },
     "execution_count": 16,
     "metadata": {},
     "output_type": "execute_result"
    }
   ],
   "source": [
    "l+l2"
   ]
  },
  {
   "cell_type": "code",
   "execution_count": null,
   "id": "45351335-ad82-462d-80bb-254f02834262",
   "metadata": {},
   "outputs": [],
   "source": [
    "24. Multiply all elements in a list by 2."
   ]
  },
  {
   "cell_type": "code",
   "execution_count": 24,
   "id": "d8a79c33-adf2-4d3c-bb75-d50ab788a09e",
   "metadata": {},
   "outputs": [
    {
     "data": {
      "text/plain": [
       "[2, 4, 6, 8]"
      ]
     },
     "execution_count": 24,
     "metadata": {},
     "output_type": "execute_result"
    }
   ],
   "source": [
    "\n",
    "a = [1,2,3,4]\n",
    "list(map(lambda x : x*2 ,a))\n",
    "      "
   ]
  },
  {
   "cell_type": "code",
   "execution_count": null,
   "id": "362294ec-b697-44e2-a6a5-ef68d738af27",
   "metadata": {},
   "outputs": [],
   "source": [
    "25. Filter out all even numbers from a list."
   ]
  },
  {
   "cell_type": "code",
   "execution_count": 56,
   "id": "f7c3da85-d852-43b7-8cef-b7c525bf4fa7",
   "metadata": {},
   "outputs": [
    {
     "name": "stdout",
     "output_type": "stream",
     "text": [
      "2\n",
      "4\n",
      "6\n"
     ]
    }
   ],
   "source": [
    "l =[1,2,3,4,5,6]\n",
    "for i in l:\n",
    "    if i%2==0:\n",
    "        print(i)"
   ]
  },
  {
   "cell_type": "code",
   "execution_count": null,
   "id": "81c43e6f-b9e5-4763-b923-2442da1fb8fa",
   "metadata": {},
   "outputs": [],
   "source": [
    "26. Convert a list of strings to a list of integers."
   ]
  },
  {
   "cell_type": "code",
   "execution_count": 65,
   "id": "cd0442a5-ca54-41d0-88df-b3c0f24f1c09",
   "metadata": {},
   "outputs": [
    {
     "name": "stdout",
     "output_type": "stream",
     "text": [
      "[1, 2, 3, 3]\n"
     ]
    }
   ],
   "source": [
    "list =['1','2','3','3']\n",
    "for i in range(0,len(list)):\n",
    "    l[i]=int(list[i])\n",
    "print(l)"
   ]
  },
  {
   "cell_type": "code",
   "execution_count": null,
   "id": "0ba9a6f5-7eef-40ba-935a-697badea1a54",
   "metadata": {},
   "outputs": [],
   "source": [
    "27. Convert a list of integers to a list of strings."
   ]
  },
  {
   "cell_type": "code",
   "execution_count": 109,
   "id": "4fa75d50-b9b7-41c6-a0ea-ab201a033b14",
   "metadata": {},
   "outputs": [
    {
     "name": "stdout",
     "output_type": "stream",
     "text": [
      "['1', '2', '3', '4', '5', '6']\n"
     ]
    }
   ],
   "source": [
    "l =[1,2,3,4,5,6]\n",
    "for i in range(0,len(l)):\n",
    "    l[i]= str(l[i])\n",
    "print(l)"
   ]
  },
  {
   "cell_type": "code",
   "execution_count": null,
   "id": "b347790e-cbe4-470d-a15f-7b2eb36d4aa7",
   "metadata": {},
   "outputs": [],
   "source": [
    "28. Flatten a nested list."
   ]
  },
  {
   "cell_type": "code",
   "execution_count": 5,
   "id": "2c16b2af-10f0-4e0b-8aaa-0e003ae00f14",
   "metadata": {},
   "outputs": [
    {
     "name": "stdout",
     "output_type": "stream",
     "text": [
      "[11, 22, 33, 44, 55, 66, 77, 88, 99, 100]\n"
     ]
    }
   ],
   "source": [
    "lis = [[11, 22, 33, 44], [55, 66, 77], [88, 99, 100]]\n",
    "flat_list=[]\n",
    "for element in lis:\n",
    "    if type(element) is list:\n",
    "        for item in element:\n",
    "            flat_list.append(item)\n",
    "    else:\n",
    "        flat_list.append(element)\n",
    "print(flat_list)\n",
    " "
   ]
  },
  {
   "cell_type": "code",
   "execution_count": null,
   "id": "b73c29e4-3d3a-4d52-b7d0-bfe0317285d1",
   "metadata": {},
   "outputs": [],
   "source": [
    "30. Check if a list is sorted."
   ]
  },
  {
   "cell_type": "code",
   "execution_count": 27,
   "id": "df137da9-2323-465f-977d-385d47478e6a",
   "metadata": {},
   "outputs": [
    {
     "name": "stdout",
     "output_type": "stream",
     "text": [
      "the list is sorted\n"
     ]
    }
   ],
   "source": [
    "list1 = [3,4,5]\n",
    "if list1==sorted(list1):\n",
    "    print('the list is sorted')\n",
    "else:\n",
    "    print('list is not sorted')"
   ]
  },
  {
   "cell_type": "code",
   "execution_count": null,
   "id": "10ee55f0-05f2-4462-b933-4c074d324ad8",
   "metadata": {},
   "outputs": [],
   "source": [
    "31 Rotate a list to the left by 3 positions."
   ]
  },
  {
   "cell_type": "code",
   "execution_count": 30,
   "id": "40dabc87-6787-43e4-b319-b69ce88815e7",
   "metadata": {},
   "outputs": [
    {
     "data": {
      "text/plain": [
       "[4, 5, 1, 2, 3]"
      ]
     },
     "execution_count": 30,
     "metadata": {},
     "output_type": "execute_result"
    }
   ],
   "source": [
    "l = [1,2,3,4,5]\n",
    "l[3:] + l[:3]"
   ]
  },
  {
   "cell_type": "code",
   "execution_count": null,
   "id": "ea222c59-d523-4b42-8b02-f46a4887f5e5",
   "metadata": {},
   "outputs": [],
   "source": [
    "32. Rotate a list to the right by 3 positions."
   ]
  },
  {
   "cell_type": "code",
   "execution_count": 31,
   "id": "ffbeae8a-1cdb-4ff4-8258-cbda80077002",
   "metadata": {},
   "outputs": [
    {
     "data": {
      "text/plain": [
       "[3, 4, 5, 1, 2]"
      ]
     },
     "execution_count": 31,
     "metadata": {},
     "output_type": "execute_result"
    }
   ],
   "source": [
    "l[-3:] + l[:-3]"
   ]
  },
  {
   "cell_type": "code",
   "execution_count": null,
   "id": "95ec0236-0d44-4854-8e2b-810ff4e8aba0",
   "metadata": {},
   "outputs": [],
   "source": [
    "50. Swap two elements in a list by their indices."
   ]
  },
  {
   "cell_type": "code",
   "execution_count": 1,
   "id": "33dd73f6-5ceb-4711-ba2a-c89b18a2dd3c",
   "metadata": {},
   "outputs": [],
   "source": [
    "l = [1,2,3,4,5]"
   ]
  },
  {
   "cell_type": "code",
   "execution_count": 7,
   "id": "d1d06e9b-2651-46d8-a9e1-b7cd1f1e3b50",
   "metadata": {},
   "outputs": [
    {
     "data": {
      "text/plain": [
       "[2, 1, 2, 3, 4, 5]"
      ]
     },
     "execution_count": 7,
     "metadata": {},
     "output_type": "execute_result"
    }
   ],
   "source": [
    "l[0],l[1]=2,1\n",
    "l"
   ]
  },
  {
   "cell_type": "code",
   "execution_count": null,
   "id": "2e8a475f-68f8-43e2-97a1-a7648b5c11a4",
   "metadata": {},
   "outputs": [],
   "source": [
    "47. Find the shortest string in a list of strings."
   ]
  },
  {
   "cell_type": "code",
   "execution_count": 32,
   "id": "e5d4df3c-643f-43d7-82de-239d940f8a97",
   "metadata": {},
   "outputs": [
    {
     "name": "stdout",
     "output_type": "stream",
     "text": [
      "the shortest string in a list of strings is my\n"
     ]
    }
   ],
   "source": [
    "s=['my', 'name', 'is']\n",
    "s2=min(s,key=len)\n",
    "print('the shortest string in a list of strings is',s2)"
   ]
  },
  {
   "cell_type": "code",
   "execution_count": null,
   "id": "ae16934e-9d6e-4745-865c-13a030f5bc69",
   "metadata": {},
   "outputs": [],
   "source": [
    "46. Find the longest string in a list of strings."
   ]
  },
  {
   "cell_type": "code",
   "execution_count": 35,
   "id": "a6b82e07-4b93-4f5c-85f6-ff7170882a74",
   "metadata": {},
   "outputs": [
    {
     "name": "stdout",
     "output_type": "stream",
     "text": [
      "the longest string in a list of strings is   avichal\n"
     ]
    }
   ],
   "source": [
    "l = ['hello', 'avichal']\n",
    "s3=max(l,key=len)\n",
    "print('the longest string in a list of strings is  ' '',s3)"
   ]
  },
  {
   "cell_type": "code",
   "execution_count": null,
   "id": "5c1dcc0f-d38d-4242-aaba-d2b63d112ae1",
   "metadata": {},
   "outputs": [],
   "source": [
    "43. Convert a string into a list of words."
   ]
  },
  {
   "cell_type": "code",
   "execution_count": 54,
   "id": "5b7de3ff-20be-415e-8ffd-0be83d5e7a29",
   "metadata": {},
   "outputs": [
    {
     "data": {
      "text/plain": [
       "['a', 'v', 'i', 'c', 'h', 'a', 'l']"
      ]
     },
     "execution_count": 54,
     "metadata": {},
     "output_type": "execute_result"
    }
   ],
   "source": [
    "s ='avichal'\n",
    "l1=[*s]\n",
    "l1\n"
   ]
  },
  {
   "cell_type": "code",
   "execution_count": null,
   "id": "c63ed191-0693-4402-8f53-fbd7087d4e5a",
   "metadata": {},
   "outputs": [],
   "source": [
    "44. Convert a list of words into a string."
   ]
  },
  {
   "cell_type": "code",
   "execution_count": 67,
   "id": "d3cb1e30-cf46-486f-8104-0de7ce7ddbd2",
   "metadata": {},
   "outputs": [
    {
     "data": {
      "text/plain": [
       "'avi'"
      ]
     },
     "execution_count": 67,
     "metadata": {},
     "output_type": "execute_result"
    }
   ],
   "source": [
    "l = ['a','v','i']\n",
    "l1= (\"\".join(l))\n",
    "l1\n"
   ]
  },
  {
   "cell_type": "code",
   "execution_count": null,
   "id": "3cb9bc4a-4bb3-4d2a-ac9b-7f5bec2417a4",
   "metadata": {},
   "outputs": [],
   "source": [
    "42. Replace negative numbers in a list with 0."
   ]
  },
  {
   "cell_type": "code",
   "execution_count": 109,
   "id": "46d0c659-d5c7-48c1-8980-9a34dc9f5e4e",
   "metadata": {},
   "outputs": [
    {
     "name": "stdout",
     "output_type": "stream",
     "text": [
      "old_list [1, -3, 4, 5, -7, -9]\n",
      "new_list [1, 0, 4, 5, 0, 0]\n"
     ]
    }
   ],
   "source": [
    "old_list = [1,-3,4,5,-7,-9]\n",
    "new_list=list(map(lambda x :0 if x<0 else x,old_list))\n",
    "print('old_list',old_list)\n",
    "print('new_list',new_list)\n",
    "\n"
   ]
  },
  {
   "cell_type": "code",
   "execution_count": null,
   "id": "80dac84b-5ec3-4f1d-a63e-3d3e957f1411",
   "metadata": {},
   "outputs": [],
   "source": [
    "41. Remove all elements from a list."
   ]
  },
  {
   "cell_type": "code",
   "execution_count": 113,
   "id": "a1d8b980-5c91-41cc-8e77-393bc4ea8bc5",
   "metadata": {},
   "outputs": [],
   "source": [
    "l = [1,2,3,4,5]"
   ]
  },
  {
   "cell_type": "code",
   "execution_count": 114,
   "id": "2b0a14af-ec58-407d-bf68-6adf6cb6e24a",
   "metadata": {},
   "outputs": [],
   "source": [
    "del l[0:6]"
   ]
  },
  {
   "cell_type": "code",
   "execution_count": 115,
   "id": "71bbd3d4-f5b2-465a-bed8-fb46f7df7555",
   "metadata": {},
   "outputs": [
    {
     "data": {
      "text/plain": [
       "[]"
      ]
     },
     "execution_count": 115,
     "metadata": {},
     "output_type": "execute_result"
    }
   ],
   "source": [
    "l"
   ]
  },
  {
   "cell_type": "code",
   "execution_count": null,
   "id": "5d711020-8784-4aa9-9dbe-de319ae83fdd",
   "metadata": {},
   "outputs": [],
   "source": [
    "39 Create a list of the first 10 factorial numbers.        "
   ]
  },
  {
   "cell_type": "code",
   "execution_count": 147,
   "id": "09287b7c-439c-46b5-bb87-5fada1f48b15",
   "metadata": {},
   "outputs": [
    {
     "name": "stdout",
     "output_type": "stream",
     "text": [
      "Factorial of 1 is 1\n",
      "Factorial of 2 is 2\n",
      "Factorial of 3 is 12\n",
      "Factorial of 4 is 288\n",
      "Factorial of 5 is 34560\n",
      "Factorial of 6 is 24883200\n",
      "Factorial of 7 is 125411328000\n",
      "Factorial of 8 is 5056584744960000\n",
      "Factorial of 9 is 1834933472251084800000\n",
      "Factorial of 10 is 6658606584104736522240000000\n"
     ]
    }
   ],
   "source": [
    "l =[1,2,3,4,5,6,7,8,9,10]\n",
    "fact = 1\n",
    "for i in l:\n",
    "    for j in range(1,i+1):\n",
    "        fact=fact*j\n",
    "    print(\"Factorial of\", j, \"is\", fact)\n",
    "        \n",
    " "
   ]
  },
  {
   "cell_type": "code",
   "execution_count": null,
   "id": "2456ea5b-64eb-44ea-a829-7018f118b89e",
   "metadata": {},
   "outputs": [],
   "source": [
    "36. Replace every element in a list with its square."
   ]
  },
  {
   "cell_type": "code",
   "execution_count": 149,
   "id": "f9eb245e-d7fc-472c-8c40-f2749319c192",
   "metadata": {},
   "outputs": [
    {
     "name": "stdout",
     "output_type": "stream",
     "text": [
      "the original_list [2, 3, 4, 5, 6, 7]\n",
      "square_list [4, 6, 8, 10, 12, 14]\n"
     ]
    }
   ],
   "source": [
    "l =[2,3,4,5,6,7]\n",
    "l2=list(map(lambda x: x*2,l))\n",
    "print('the original_list',l)\n",
    "print('square_list',l2)"
   ]
  },
  {
   "cell_type": "code",
   "execution_count": null,
   "id": "94649e80-0c6d-42cc-ad7b-4784eb1e7d98",
   "metadata": {},
   "outputs": [],
   "source": [
    "34. Split a list into chunks of size n."
   ]
  },
  {
   "cell_type": "code",
   "execution_count": 57,
   "id": "95f919e9-6330-4607-acbd-3cd3358ab44a",
   "metadata": {},
   "outputs": [
    {
     "name": "stdout",
     "output_type": "stream",
     "text": [
      "List of prime numbers up to 50: [2, 3, 5, 7, 11, 13, 17, 19, 23, 29, 31, 37, 41, 43, 47]\n"
     ]
    }
   ],
   "source": [
    "def sieve_of_eratosthenes(limit):\n",
    "    primes = []\n",
    "    is_prime = [True] * (limit + 1)\n",
    "    is_prime[0] = is_prime[1] = False\n",
    "\n",
    "    for num in range(2, int(limit ** 0.5) + 1):\n",
    "        if is_prime[num]:\n",
    "            primes.append(num)\n",
    "            for multiple in range(num * num, limit + 1, num):\n",
    "                is_prime[multiple] = False\n",
    "\n",
    "    for num in range(int(limit ** 0.5) + 1, limit + 1):\n",
    "        if is_prime[num]:\n",
    "            primes.append(num)\n",
    "\n",
    "    return primes\n",
    "\n",
    "# Create a list of prime numbers up to 50\n",
    "prime_numbers = sieve_of_eratosthenes(50)\n",
    "\n",
    "# Print the list of prime numbers\n",
    "print(\"List of prime numbers up to 50:\", prime_numbers)"
   ]
  },
  {
   "cell_type": "code",
   "execution_count": null,
   "id": "211d6653-a2df-439c-a341-4b86d29ac011",
   "metadata": {},
   "outputs": [],
   "source": [
    "35. Find the second largest number in a list."
   ]
  },
  {
   "cell_type": "code",
   "execution_count": 61,
   "id": "8dfd8903-a598-4f84-b5f8-1f3856344725",
   "metadata": {},
   "outputs": [
    {
     "name": "stdout",
     "output_type": "stream",
     "text": [
      "Second largest number: 54\n"
     ]
    }
   ],
   "source": [
    "l =[12,34,54,46,6,56]\n",
    "sort=sorted(set(l))\n",
    "if len(sort)>=2:\n",
    "    second_largest=sort[-2]\n",
    "    print(\"Second largest number:\", second_largest)\n",
    "else:\n",
    "    print(\"The list does not contain enough elements.\")"
   ]
  },
  {
   "cell_type": "code",
   "execution_count": null,
   "id": "7bd8611c-2965-47e2-b264-f4f3276c61ac",
   "metadata": {},
   "outputs": [],
   "source": [
    "37. Convert a list to a dictionary where list elements become keys and their indices become values"
   ]
  },
  {
   "cell_type": "code",
   "execution_count": 70,
   "id": "afa46174-0259-4a8a-bf65-8af7bf9a69fb",
   "metadata": {},
   "outputs": [
    {
     "name": "stdout",
     "output_type": "stream",
     "text": [
      "{'apple11': 0, 'mi': 1, 'nokia': 2}\n"
     ]
    }
   ],
   "source": [
    "l = ['apple11','mi','nokia']\n",
    "d ={price:index for index, price in enumerate(l)}\n",
    "print(d)"
   ]
  },
  {
   "cell_type": "code",
   "execution_count": null,
   "id": "7935329c-2e25-43b0-9ad0-3bb8ab3c3b8e",
   "metadata": {},
   "outputs": [],
   "source": [
    "38. Shuffle the elements of a list randomly."
   ]
  },
  {
   "cell_type": "code",
   "execution_count": 73,
   "id": "38dc57d1-9962-4bec-8f8b-fbbfa9f939cc",
   "metadata": {},
   "outputs": [
    {
     "name": "stdout",
     "output_type": "stream",
     "text": [
      "[454, 77, 56, 454, 545, 445, 23]\n"
     ]
    }
   ],
   "source": [
    "import random\n",
    "l = [23,445,56,77,454,454,545]\n",
    "l2=random.shuffle(l)\n",
    "print(l)"
   ]
  },
  {
   "cell_type": "code",
   "execution_count": null,
   "id": "4b20bf56-513b-4c73-abab-21ad4efeb9d2",
   "metadata": {},
   "outputs": [],
   "source": [
    "45 Create a list of the first n powers of 2."
   ]
  },
  {
   "cell_type": "code",
   "execution_count": 77,
   "id": "1a17f220-3921-498b-a4c0-8fa13087abd3",
   "metadata": {},
   "outputs": [
    {
     "name": "stdout",
     "output_type": "stream",
     "text": [
      "List of the first 10 powers of 2: [1, 2, 4, 8, 16, 32, 64, 128, 256, 512]\n"
     ]
    }
   ],
   "source": [
    "n =10\n",
    "l = [2**i for i in range(n)]\n",
    "print(\"List of the first\", n, \"powers of 2:\", l)"
   ]
  },
  {
   "cell_type": "code",
   "execution_count": null,
   "id": "f70a1109-4f4c-4197-bcc8-bc3a0f1de7d4",
   "metadata": {},
   "outputs": [],
   "source": [
    "48. Create a list of the first n triangular numbers."
   ]
  },
  {
   "cell_type": "code",
   "execution_count": 78,
   "id": "f8b96de3-9d24-4fbb-bac0-d643fe072f56",
   "metadata": {},
   "outputs": [
    {
     "name": "stdout",
     "output_type": "stream",
     "text": [
      "List of the first 5 triangular numbers: [1, 3, 6, 10, 15]\n"
     ]
    }
   ],
   "source": [
    "def triangular_numbers(n):\n",
    "    return [i * (i + 1) // 2 for i in range(1, n + 1)]\n",
    "\n",
    "# Specify the value of n\n",
    "n = 5\n",
    "\n",
    "# Create a list of the first n triangular numbers\n",
    "triangular_list = triangular_numbers(n)\n",
    "\n",
    "# Print the list of triangular numbers\n",
    "print(\"List of the first\", n, \"triangular numbers:\", triangular_list)"
   ]
  },
  {
   "cell_type": "code",
   "execution_count": null,
   "id": "15e9f2fa-2951-4968-8ebb-29aab3bcfb6b",
   "metadata": {},
   "outputs": [],
   "source": [
    "49. Check if a list contains another list as a subsequence."
   ]
  },
  {
   "cell_type": "code",
   "execution_count": 79,
   "id": "4c10a5db-366e-42c8-9b62-3f008d533a5f",
   "metadata": {},
   "outputs": [
    {
     "name": "stdout",
     "output_type": "stream",
     "text": [
      "Main list contains the subsequence.\n"
     ]
    }
   ],
   "source": [
    "def is_subsequence(subsequence, main_list):\n",
    "    subseq_index = 0  # Index for the subsequence elements\n",
    "    for element in main_list:\n",
    "        if element == subsequence[subseq_index]:\n",
    "            subseq_index += 1\n",
    "            if subseq_index == len(subsequence):\n",
    "                return True\n",
    "    return False\n",
    "\n",
    "# Example main list and subsequence\n",
    "main_list = [1, 2, 3, 4, 5, 6, 7, 8, 9, 10]\n",
    "subsequence = [3, 5, 8]\n",
    "\n",
    "# Check if the main list contains the subsequence\n",
    "if is_subsequence(subsequence, main_list):\n",
    "    print(\"Main list contains the subsequence.\")\n",
    "else:\n",
    "    print(\"Main list does not contain the subsequence.\")"
   ]
  },
  {
   "cell_type": "markdown",
   "id": "9fc1191e-cd2d-4189-b28a-b84d51c04ae8",
   "metadata": {},
   "source": [
    "## Set Based Practice Problem :"
   ]
  },
  {
   "cell_type": "code",
   "execution_count": null,
   "id": "90653d65-bce7-4933-a089-4a854f21518e",
   "metadata": {},
   "outputs": [],
   "source": [
    "1. Create a set with integers from 1 to 5."
   ]
  },
  {
   "cell_type": "code",
   "execution_count": 153,
   "id": "96da1ead-9577-40cb-afc3-dfd0f2dc7729",
   "metadata": {},
   "outputs": [],
   "source": [
    "set1= {1,2,3,4,5}"
   ]
  },
  {
   "cell_type": "code",
   "execution_count": null,
   "id": "41f2ec13-67da-4890-a5ef-6a93824c1f5c",
   "metadata": {},
   "outputs": [],
   "source": [
    "2. Add an element to a set."
   ]
  },
  {
   "cell_type": "code",
   "execution_count": 155,
   "id": "ed0be553-8597-4460-b3d7-467b06aa1190",
   "metadata": {},
   "outputs": [
    {
     "data": {
      "text/plain": [
       "{1, 2, 3, 4, 5}"
      ]
     },
     "execution_count": 155,
     "metadata": {},
     "output_type": "execute_result"
    }
   ],
   "source": [
    "set1"
   ]
  },
  {
   "cell_type": "code",
   "execution_count": 157,
   "id": "f266ba96-63ac-4185-8ba3-bd0b06c8bb5b",
   "metadata": {},
   "outputs": [
    {
     "name": "stdout",
     "output_type": "stream",
     "text": [
      "{1, 2, 3, 4, 5, 6}\n"
     ]
    }
   ],
   "source": [
    "set1.add(6)\n",
    "print(set1)"
   ]
  },
  {
   "cell_type": "code",
   "execution_count": null,
   "id": "26776016-41c7-4cb8-986c-32a46e1799b2",
   "metadata": {},
   "outputs": [],
   "source": [
    "3. Remove an element from a set."
   ]
  },
  {
   "cell_type": "code",
   "execution_count": 167,
   "id": "3d20b289-61a1-4a61-91af-32e8f8b898a0",
   "metadata": {},
   "outputs": [
    {
     "data": {
      "text/plain": [
       "{3, 4, 5, 6}"
      ]
     },
     "execution_count": 167,
     "metadata": {},
     "output_type": "execute_result"
    }
   ],
   "source": [
    "set1"
   ]
  },
  {
   "cell_type": "code",
   "execution_count": 171,
   "id": "d94d6189-8372-4fc6-91dd-f6cc32bb52b7",
   "metadata": {},
   "outputs": [
    {
     "data": {
      "text/plain": [
       "{4, 5, 6}"
      ]
     },
     "execution_count": 171,
     "metadata": {},
     "output_type": "execute_result"
    }
   ],
   "source": [
    "set1.remove(3)\n",
    "set1"
   ]
  },
  {
   "cell_type": "code",
   "execution_count": null,
   "id": "3ba7b68c-b2f2-42a7-a67c-a76af738eeac",
   "metadata": {},
   "outputs": [],
   "source": [
    "4. Check if an element exists in a set."
   ]
  },
  {
   "cell_type": "code",
   "execution_count": 175,
   "id": "450caf17-643a-44fe-ac0e-132c9c7bb54d",
   "metadata": {},
   "outputs": [
    {
     "name": "stdout",
     "output_type": "stream",
     "text": [
      "element exist\n"
     ]
    }
   ],
   "source": [
    "a = {1,2,3,4,5}\n",
    "if 4 in a:\n",
    "    print('element exist')\n",
    "else:\n",
    "    print('element not exist')"
   ]
  },
  {
   "cell_type": "code",
   "execution_count": null,
   "id": "c5578d63-911b-4cd1-9836-66d481c34251",
   "metadata": {},
   "outputs": [],
   "source": [
    "5. Find the length of a set without using the `len()` function."
   ]
  },
  {
   "cell_type": "code",
   "execution_count": 179,
   "id": "fca1fc90-304b-4861-a5ac-08d37dfdbaad",
   "metadata": {},
   "outputs": [],
   "source": [
    "set2={1,2,3,4,5,6}"
   ]
  },
  {
   "cell_type": "code",
   "execution_count": 180,
   "id": "f6f3d92e-1d59-42e2-b4f0-d3b1c48f8a10",
   "metadata": {},
   "outputs": [
    {
     "name": "stdout",
     "output_type": "stream",
     "text": [
      "6\n"
     ]
    }
   ],
   "source": [
    "count =0\n",
    "for i in set2:\n",
    "    count= count+1\n",
    "print(count)"
   ]
  },
  {
   "cell_type": "code",
   "execution_count": null,
   "id": "0bff4fde-0ae2-4de6-84a4-d61bb7545c2f",
   "metadata": {},
   "outputs": [],
   "source": [
    "6. Clear all elements from a set."
   ]
  },
  {
   "cell_type": "code",
   "execution_count": 181,
   "id": "9a417a8e-f84f-4e04-9519-29bcab50cf9c",
   "metadata": {},
   "outputs": [
    {
     "data": {
      "text/plain": [
       "{1, 2, 3, 4, 5, 6}"
      ]
     },
     "execution_count": 181,
     "metadata": {},
     "output_type": "execute_result"
    }
   ],
   "source": [
    "set2"
   ]
  },
  {
   "cell_type": "code",
   "execution_count": 184,
   "id": "6338565d-61de-4b69-af42-8df4af672aea",
   "metadata": {},
   "outputs": [
    {
     "data": {
      "text/plain": [
       "set()"
      ]
     },
     "execution_count": 184,
     "metadata": {},
     "output_type": "execute_result"
    }
   ],
   "source": [
    "set2.clear()\n",
    "set2"
   ]
  },
  {
   "cell_type": "code",
   "execution_count": null,
   "id": "ae8724b7-1bd2-4347-b114-be007364a6c1",
   "metadata": {},
   "outputs": [],
   "source": [
    "7. Create a set of even numbers from 1 to 10."
   ]
  },
  {
   "cell_type": "code",
   "execution_count": 34,
   "id": "35a49f18-422e-40b9-8124-1847dbdb6ff1",
   "metadata": {},
   "outputs": [],
   "source": [
    "s ={1,2,3,4,5,6,7,8,9,10}"
   ]
  },
  {
   "cell_type": "code",
   "execution_count": 42,
   "id": "8005b83c-4c79-49ca-b850-0d7856bce168",
   "metadata": {},
   "outputs": [
    {
     "data": {
      "text/plain": [
       "{2, 4, 6, 8, 10}"
      ]
     },
     "execution_count": 42,
     "metadata": {},
     "output_type": "execute_result"
    }
   ],
   "source": [
    "s1=set(filter(lambda x : x%2==0 ,s))\n",
    "s1"
   ]
  },
  {
   "cell_type": "code",
   "execution_count": null,
   "id": "2e443f35-5114-48e5-8eef-083b90c37e44",
   "metadata": {},
   "outputs": [],
   "source": [
    "8. Create a set of odd numbers from 1 to 10."
   ]
  },
  {
   "cell_type": "code",
   "execution_count": 45,
   "id": "cee83570-2b9d-4a50-a103-86f172c2ecfb",
   "metadata": {},
   "outputs": [
    {
     "data": {
      "text/plain": [
       "{1, 3, 5, 7, 9}"
      ]
     },
     "execution_count": 45,
     "metadata": {},
     "output_type": "execute_result"
    }
   ],
   "source": [
    "s={1,2,3,4,5,6,7,8,9,10}\n",
    "s2=set(filter(lambda x : x%2!=0,s))\n",
    "s2"
   ]
  },
  {
   "cell_type": "code",
   "execution_count": null,
   "id": "29c425e3-6dec-4772-9b82-b8bf31ca31b7",
   "metadata": {},
   "outputs": [],
   "source": [
    "9. Find the union of two sets."
   ]
  },
  {
   "cell_type": "code",
   "execution_count": 48,
   "id": "b6aba454-4ba2-4cc6-bbd5-d8869207d061",
   "metadata": {},
   "outputs": [
    {
     "data": {
      "text/plain": [
       "{1, 2, 3, 4, 5, 6, 7, 8, 9}"
      ]
     },
     "execution_count": 48,
     "metadata": {},
     "output_type": "execute_result"
    }
   ],
   "source": [
    "s1={1,2,3,4,5}\n",
    "s2={6,7,8,9,5}\n",
    "s3=s1.union(s2)\n",
    "s3"
   ]
  },
  {
   "cell_type": "code",
   "execution_count": null,
   "id": "7dd47afe-7f82-4a10-9e7c-fbba054eb353",
   "metadata": {},
   "outputs": [],
   "source": [
    "10. Find the intersection of two sets."
   ]
  },
  {
   "cell_type": "code",
   "execution_count": 52,
   "id": "efe4fb01-cb11-41c2-9111-040b477206c0",
   "metadata": {},
   "outputs": [
    {
     "data": {
      "text/plain": [
       "{3, 5}"
      ]
     },
     "execution_count": 52,
     "metadata": {},
     "output_type": "execute_result"
    }
   ],
   "source": [
    "s1={1,2,3,4,5}\n",
    "s2={6,7,8,9,5,3}\n",
    "s4=s1.intersection(s2)\n",
    "s4"
   ]
  },
  {
   "cell_type": "code",
   "execution_count": null,
   "id": "58a840ec-73cb-4985-a701-0b4765b00acd",
   "metadata": {},
   "outputs": [],
   "source": [
    "11. Find the difference between two sets."
   ]
  },
  {
   "cell_type": "code",
   "execution_count": 55,
   "id": "09fe4ed0-8ae7-4762-a87f-bd386aa93f82",
   "metadata": {},
   "outputs": [
    {
     "data": {
      "text/plain": [
       "{1, 2, 4}"
      ]
     },
     "execution_count": 55,
     "metadata": {},
     "output_type": "execute_result"
    }
   ],
   "source": [
    "s1={1,2,3,4,5}\n",
    "s2={6,7,8,9,5,3}\n",
    "s3=s1.difference(s2)\n",
    "s3"
   ]
  },
  {
   "cell_type": "code",
   "execution_count": null,
   "id": "22c02000-c47f-44ad-b42c-501bde12d1b7",
   "metadata": {},
   "outputs": [],
   "source": [
    "12. Check if a set is a subset of another set."
   ]
  },
  {
   "cell_type": "code",
   "execution_count": 64,
   "id": "e18c7ac2-42de-4e57-9092-496444bc1e7f",
   "metadata": {},
   "outputs": [
    {
     "data": {
      "text/plain": [
       "False"
      ]
     },
     "execution_count": 64,
     "metadata": {},
     "output_type": "execute_result"
    }
   ],
   "source": [
    "s1={1,2,3,4,6}\n",
    "s2={6,7,8,9,5,3}\n",
    "s3=s1.issubset(s2)\n",
    "s3"
   ]
  },
  {
   "cell_type": "code",
   "execution_count": null,
   "id": "2f145ebe-165a-4e4e-84d0-60a97e314c77",
   "metadata": {},
   "outputs": [],
   "source": [
    "13. Check if a set is a superset of another set."
   ]
  },
  {
   "cell_type": "code",
   "execution_count": 67,
   "id": "c9835826-567a-4773-ac77-846de88ec5fc",
   "metadata": {},
   "outputs": [
    {
     "data": {
      "text/plain": [
       "True"
      ]
     },
     "execution_count": 67,
     "metadata": {},
     "output_type": "execute_result"
    }
   ],
   "source": [
    "s1={1,2,3,4,6}\n",
    "s2={1,2,3,4,6}\n",
    "s3=s1.issuperset(s2)\n",
    "s3"
   ]
  },
  {
   "cell_type": "code",
   "execution_count": null,
   "id": "d13a44cc-e6eb-439d-afdf-bda62f71632f",
   "metadata": {},
   "outputs": [],
   "source": [
    "14. Create a set from a list."
   ]
  },
  {
   "cell_type": "code",
   "execution_count": 69,
   "id": "05003e14-501f-43cd-9e4b-689424a66f92",
   "metadata": {},
   "outputs": [
    {
     "data": {
      "text/plain": [
       "{1, 2, 3, 4, 5}"
      ]
     },
     "execution_count": 69,
     "metadata": {},
     "output_type": "execute_result"
    }
   ],
   "source": [
    "l = [1,2,3,4,5]\n",
    "s1=set(l)\n",
    "s1"
   ]
  },
  {
   "cell_type": "code",
   "execution_count": null,
   "id": "36706ea5-5014-442f-8e66-83409b4c9dcc",
   "metadata": {},
   "outputs": [],
   "source": [
    "15. Convert a set to a list."
   ]
  },
  {
   "cell_type": "code",
   "execution_count": 71,
   "id": "5c4cc582-71c6-4c58-99f9-a0a328676f79",
   "metadata": {},
   "outputs": [
    {
     "data": {
      "text/plain": [
       "[1, 2, 3, 4]"
      ]
     },
     "execution_count": 71,
     "metadata": {},
     "output_type": "execute_result"
    }
   ],
   "source": [
    "set={1,2,3,4}\n",
    "l=list(set)\n",
    "l"
   ]
  },
  {
   "cell_type": "code",
   "execution_count": null,
   "id": "45c61931-6fb7-450d-9ccf-b14334585396",
   "metadata": {},
   "outputs": [],
   "source": [
    "16. Remove a random element from a set."
   ]
  },
  {
   "cell_type": "code",
   "execution_count": 72,
   "id": "2d6d4022-9c77-4557-b7a9-c59edeae7fa9",
   "metadata": {},
   "outputs": [
    {
     "data": {
      "text/plain": [
       "{1, 2, 3, 4, 5, 6, 7, 8, 9, 10}"
      ]
     },
     "execution_count": 72,
     "metadata": {},
     "output_type": "execute_result"
    }
   ],
   "source": [
    "s"
   ]
  },
  {
   "cell_type": "code",
   "execution_count": 74,
   "id": "47080970-2231-460a-98e0-98ecdbd7bffe",
   "metadata": {},
   "outputs": [
    {
     "data": {
      "text/plain": [
       "2"
      ]
     },
     "execution_count": 74,
     "metadata": {},
     "output_type": "execute_result"
    }
   ],
   "source": [
    "s.pop()"
   ]
  },
  {
   "cell_type": "code",
   "execution_count": null,
   "id": "cde37678-2fb5-4d4d-b947-c66e47b0f997",
   "metadata": {},
   "outputs": [],
   "source": [
    "17. Pop an element from a set."
   ]
  },
  {
   "cell_type": "code",
   "execution_count": 77,
   "id": "058ab1fa-fdfa-47c2-b36a-9f23ae76eed6",
   "metadata": {},
   "outputs": [
    {
     "data": {
      "text/plain": [
       "{3, 4, 5, 6, 7, 8, 9, 10}"
      ]
     },
     "execution_count": 77,
     "metadata": {},
     "output_type": "execute_result"
    }
   ],
   "source": [
    "s"
   ]
  },
  {
   "cell_type": "code",
   "execution_count": 78,
   "id": "53a02475-5360-4113-a1d4-6eb39abc6bf9",
   "metadata": {},
   "outputs": [
    {
     "data": {
      "text/plain": [
       "3"
      ]
     },
     "execution_count": 78,
     "metadata": {},
     "output_type": "execute_result"
    }
   ],
   "source": [
    "s.pop()"
   ]
  },
  {
   "cell_type": "code",
   "execution_count": null,
   "id": "407daa80-c455-424b-8571-7768ea059904",
   "metadata": {},
   "outputs": [],
   "source": [
    "18. Check if two sets have no elements in common."
   ]
  },
  {
   "cell_type": "code",
   "execution_count": 57,
   "id": "c756af31-17c4-4253-9295-420394f54d8b",
   "metadata": {},
   "outputs": [],
   "source": [
    "s ={1,2,3,4,5}\n",
    "s1 = {33,33,555,55}"
   ]
  },
  {
   "cell_type": "code",
   "execution_count": 58,
   "id": "4bd1b4b6-f114-4bd1-a97e-d8160f94dd20",
   "metadata": {},
   "outputs": [
    {
     "data": {
      "text/plain": [
       "False"
      ]
     },
     "execution_count": 58,
     "metadata": {},
     "output_type": "execute_result"
    }
   ],
   "source": [
    "s.issubset(s1)"
   ]
  },
  {
   "cell_type": "code",
   "execution_count": null,
   "id": "75640b52-3f4b-4f63-a77f-57a00d483883",
   "metadata": {},
   "outputs": [],
   "source": [
    "19. Find the symmetric difference between two sets."
   ]
  },
  {
   "cell_type": "code",
   "execution_count": 101,
   "id": "745384b9-1f95-473c-8061-7674d8ce99c9",
   "metadata": {},
   "outputs": [
    {
     "data": {
      "text/plain": [
       "{1, 2, 3, 4, 5, 33, 55, 555}"
      ]
     },
     "execution_count": 101,
     "metadata": {},
     "output_type": "execute_result"
    }
   ],
   "source": [
    "s ={1,2,3,4,5}\n",
    "s1 = {33,33,555,55}\n",
    "s2=s.symmetric_difference(s1)\n",
    "s2"
   ]
  },
  {
   "cell_type": "code",
   "execution_count": null,
   "id": "b38e0cc7-9c38-4f9e-a029-f15566634623",
   "metadata": {},
   "outputs": [],
   "source": [
    "20. Update a set with elements from another set."
   ]
  },
  {
   "cell_type": "code",
   "execution_count": 6,
   "id": "96405c7a-4263-4aa0-a6f1-9d18d82faaee",
   "metadata": {},
   "outputs": [
    {
     "name": "stdout",
     "output_type": "stream",
     "text": [
      "updated set {1, 2, 3, 4, 5, 6, 8}\n"
     ]
    }
   ],
   "source": [
    "s ={1,2,3,4,5}\n",
    "s1 = {2,1,3,6,8}\n",
    "s.update(s1)\n",
    "print('updated set',s)"
   ]
  },
  {
   "cell_type": "code",
   "execution_count": null,
   "id": "8924641b-6470-4593-9402-49035523a53a",
   "metadata": {},
   "outputs": [],
   "source": [
    "21. Create a set of the first 5 prime numbers."
   ]
  },
  {
   "cell_type": "code",
   "execution_count": 41,
   "id": "99e7ba20-913e-40ce-8fda-67dd88a564c5",
   "metadata": {},
   "outputs": [
    {
     "data": {
      "text/plain": [
       "{1, 3, 5, 7, 11}"
      ]
     },
     "execution_count": 41,
     "metadata": {},
     "output_type": "execute_result"
    }
   ],
   "source": [
    "s = {0,1,2,3,4,5,6,7,8,10,11}\n",
    "s1=set(filter(lambda x : x%2!=0 ,s))\n",
    "s1\n",
    "\n"
   ]
  },
  {
   "cell_type": "code",
   "execution_count": null,
   "id": "57655630-3eee-4037-8fb6-49a057bf9eac",
   "metadata": {},
   "outputs": [],
   "source": [
    "22. Check if two sets are identical."
   ]
  },
  {
   "cell_type": "code",
   "execution_count": 46,
   "id": "7e45f7d5-5105-43d8-95e5-c142127385ce",
   "metadata": {},
   "outputs": [
    {
     "data": {
      "text/plain": [
       "{1, 2, 3, 4, 5}"
      ]
     },
     "execution_count": 46,
     "metadata": {},
     "output_type": "execute_result"
    }
   ],
   "source": [
    "s = {1,2,3,4,5,6}\n",
    "s1 = {1,2,3,4,5}\n",
    "s2=s.intersection(s1)\n",
    "s2"
   ]
  },
  {
   "cell_type": "code",
   "execution_count": 88,
   "id": "5baa7d38-8654-478a-b1ff-9e0f1779bfa2",
   "metadata": {},
   "outputs": [],
   "source": [
    "def test():\n",
    "    if set(s) and set(s1):\n",
    "        s2=s.issubset(s1)\n",
    "        return True\n",
    "    else:\n",
    "        return False\n",
    "    "
   ]
  },
  {
   "cell_type": "code",
   "execution_count": 89,
   "id": "f3dfcbf6-5eec-4a06-a25b-ed9a5de5f61e",
   "metadata": {},
   "outputs": [
    {
     "data": {
      "text/plain": [
       "True"
      ]
     },
     "execution_count": 89,
     "metadata": {},
     "output_type": "execute_result"
    }
   ],
   "source": [
    "test()"
   ]
  },
  {
   "cell_type": "code",
   "execution_count": null,
   "id": "062e42ae-3886-4055-b2b1-ac2b6437109f",
   "metadata": {},
   "outputs": [],
   "source": [
    "23. Create a frozen set."
   ]
  },
  {
   "cell_type": "code",
   "execution_count": 93,
   "id": "ee24a1b7-0fcb-43f5-85c5-ce864643f441",
   "metadata": {},
   "outputs": [
    {
     "data": {
      "text/plain": [
       "frozenset({1, 2, 3, 4, 5})"
      ]
     },
     "execution_count": 93,
     "metadata": {},
     "output_type": "execute_result"
    }
   ],
   "source": [
    "s1=frozenset({1,2,3,4,5})\n",
    "s1"
   ]
  },
  {
   "cell_type": "code",
   "execution_count": null,
   "id": "0aca822c-0618-4de2-8632-1116f1ff8f8a",
   "metadata": {},
   "outputs": [],
   "source": [
    "24. Check if a set is disjoint with another set."
   ]
  },
  {
   "cell_type": "code",
   "execution_count": 115,
   "id": "361ca30c-17aa-4933-84bb-f77cf71d67f8",
   "metadata": {},
   "outputs": [
    {
     "name": "stdout",
     "output_type": "stream",
     "text": [
      "False\n",
      "None\n"
     ]
    }
   ],
   "source": [
    "s = {1,2,23,45,56}\n",
    "s1 = {1,2,23,45,56}\n",
    "def test():\n",
    "    if set(s) and set(s1):\n",
    "        s2=s.isdisjoint(s1)\n",
    "        print(s2)\n",
    "\n",
    "    else:\n",
    "        return False\n",
    "print(test())    "
   ]
  },
  {
   "cell_type": "code",
   "execution_count": null,
   "id": "8b37c9b3-21e7-4b58-a10c-67b4d1b0cd6f",
   "metadata": {},
   "outputs": [],
   "source": [
    "25. Create a set of squares of numbers from 1 to 5."
   ]
  },
  {
   "cell_type": "code",
   "execution_count": 118,
   "id": "ff008e9b-e141-457c-b50f-fcc645f9e2ef",
   "metadata": {},
   "outputs": [
    {
     "name": "stdout",
     "output_type": "stream",
     "text": [
      "the square of set is : {1, 4, 9, 16, 25}\n"
     ]
    }
   ],
   "source": [
    "s = {1,2,3,4,5}\n",
    "s1=set(map(lambda x : x**2 ,s))\n",
    "print('the square of set is :' '',s1)"
   ]
  },
  {
   "cell_type": "code",
   "execution_count": null,
   "id": "f56877f2-c50b-4212-a012-b745c50f5054",
   "metadata": {},
   "outputs": [],
   "source": [
    "26. Filter out all even numbers from a set."
   ]
  },
  {
   "cell_type": "code",
   "execution_count": 123,
   "id": "4fb495a7-9f88-4fe0-b26d-450468561b34",
   "metadata": {},
   "outputs": [
    {
     "name": "stdout",
     "output_type": "stream",
     "text": [
      "all even numbers from a set:   {2, 4, 6676, 6}\n"
     ]
    }
   ],
   "source": [
    "s = {1,2,3,3,4,5,6,6676,3,4,35,5343}\n",
    "s1=set(filter(lambda x : x%2==0,s))\n",
    "print('all even numbers from a set: ' ' ',s1)"
   ]
  },
  {
   "cell_type": "code",
   "execution_count": null,
   "id": "b093867e-ba30-4bfa-8fd4-803e0b0af703",
   "metadata": {},
   "outputs": [],
   "source": [
    "27. Multiply all elements in a set by 2."
   ]
  },
  {
   "cell_type": "code",
   "execution_count": 125,
   "id": "385be023-f1da-47e0-a666-75052a85eef6",
   "metadata": {},
   "outputs": [
    {
     "name": "stdout",
     "output_type": "stream",
     "text": [
      "{2, 4, 6, 8, 10}\n"
     ]
    }
   ],
   "source": [
    "s ={1,2,3,4,5}\n",
    "def test(a):\n",
    "    return a*2\n",
    "s1=set(map(test,s))\n",
    "print(s1)    "
   ]
  },
  {
   "cell_type": "code",
   "execution_count": null,
   "id": "a0a88c32-64bf-4b8c-9a7a-1784a3566f44",
   "metadata": {},
   "outputs": [],
   "source": [
    "29. Check if a set is empty."
   ]
  },
  {
   "cell_type": "code",
   "execution_count": 158,
   "id": "47225cc6-5e91-45c8-8265-abb4d7487f62",
   "metadata": {},
   "outputs": [
    {
     "name": "stdout",
     "output_type": "stream",
     "text": [
      "set is empty\n"
     ]
    }
   ],
   "source": [
    "s ={}\n",
    "if not s:\n",
    "    print('set is empty')\n",
    "else:\n",
    "    print('set is no empty')"
   ]
  },
  {
   "cell_type": "code",
   "execution_count": null,
   "id": "7a6dc012-c3b7-484b-b138-09f4132d0006",
   "metadata": {},
   "outputs": [],
   "source": [
    "30. Create a nested set (hint: use frozenset)."
   ]
  },
  {
   "cell_type": "code",
   "execution_count": 170,
   "id": "1b56a8af-6f66-4edf-8231-e9731c803a8d",
   "metadata": {},
   "outputs": [
    {
     "data": {
      "text/plain": [
       "{frozenset({1, 2, 3}), frozenset({4, 6})}"
      ]
     },
     "execution_count": 170,
     "metadata": {},
     "output_type": "execute_result"
    }
   ],
   "source": [
    "s1=set([frozenset({1,2,3}),frozenset({4,4,6})])\n",
    "s1"
   ]
  },
  {
   "cell_type": "code",
   "execution_count": null,
   "id": "06550a44-c2ef-42a7-97ee-f901e70e5973",
   "metadata": {},
   "outputs": [],
   "source": [
    "31. Remove an element from a set using the discard method."
   ]
  },
  {
   "cell_type": "code",
   "execution_count": 180,
   "id": "f3ad2b69-da10-492a-b3cb-b74b71c13356",
   "metadata": {},
   "outputs": [],
   "source": [
    "s={1,2,3,4,5,7}\n",
    "s1=s.discard(2)\n",
    "s1"
   ]
  },
  {
   "cell_type": "code",
   "execution_count": null,
   "id": "ac6f83d6-bba2-4121-8d03-51f049b42b54",
   "metadata": {},
   "outputs": [],
   "source": [
    "32. Compare two sets."
   ]
  },
  {
   "cell_type": "code",
   "execution_count": 5,
   "id": "1c5fe62a-3897-4109-b441-c310b74318d1",
   "metadata": {},
   "outputs": [
    {
     "data": {
      "text/plain": [
       "True"
      ]
     },
     "execution_count": 5,
     "metadata": {},
     "output_type": "execute_result"
    }
   ],
   "source": [
    "s = {1,2,3,4,5}\n",
    "s1 = {1,2,3,4,5}\n",
    "s3=set(s)==set(s1)\n",
    "s3\n",
    "    "
   ]
  },
  {
   "cell_type": "code",
   "execution_count": null,
   "id": "6a6b28dc-4e93-42f2-93de-ba19eeb40e96",
   "metadata": {},
   "outputs": [],
   "source": [
    "33. Create a set from a string."
   ]
  },
  {
   "cell_type": "code",
   "execution_count": 11,
   "id": "069397fd-aa3e-48b2-a16b-3f01aa325976",
   "metadata": {},
   "outputs": [
    {
     "data": {
      "text/plain": [
       "{' ', 'g', 'h', 'i', 'm', 'n', 'r', 's', 't', 'y'}"
      ]
     },
     "execution_count": 11,
     "metadata": {},
     "output_type": "execute_result"
    }
   ],
   "source": [
    "s = \"this is my string\"\n",
    "s1=set(s)\n",
    "s1"
   ]
  },
  {
   "cell_type": "code",
   "execution_count": null,
   "id": "54c2531b-2ab2-4bc4-b64c-baf9adc2c223",
   "metadata": {},
   "outputs": [],
   "source": [
    "34. Convert a set of strings to a set of integers."
   ]
  },
  {
   "cell_type": "code",
   "execution_count": null,
   "id": "080a5eb9-7f9d-4796-816a-ef63bdbeda3b",
   "metadata": {},
   "outputs": [],
   "source": [
    "35. Convert a set of integers to a set of strings."
   ]
  },
  {
   "cell_type": "code",
   "execution_count": 50,
   "id": "8104c2b2-749f-440e-b611-dcb74733f36f",
   "metadata": {},
   "outputs": [
    {
     "data": {
      "text/plain": [
       "'{1, 2, 3, 4}'"
      ]
     },
     "execution_count": 50,
     "metadata": {},
     "output_type": "execute_result"
    }
   ],
   "source": [
    "s = {1,2,3,4}\n",
    "s1=str(s)\n",
    "s1\n"
   ]
  },
  {
   "cell_type": "code",
   "execution_count": null,
   "id": "4804dfec-1f1b-4581-b5a3-c817eeb603c9",
   "metadata": {},
   "outputs": [],
   "source": [
    "36. Create a set from a tuple."
   ]
  },
  {
   "cell_type": "code",
   "execution_count": 53,
   "id": "98a446d9-8da8-4e60-8a5b-7e416a962a30",
   "metadata": {},
   "outputs": [
    {
     "data": {
      "text/plain": [
       "{1, 2, 3, 4}"
      ]
     },
     "execution_count": 53,
     "metadata": {},
     "output_type": "execute_result"
    }
   ],
   "source": [
    "t = (1,2,3,4)\n",
    "t2=set(t)\n",
    "t2"
   ]
  },
  {
   "cell_type": "code",
   "execution_count": null,
   "id": "2029548c-c80a-472d-a247-fbade87d31ae",
   "metadata": {},
   "outputs": [],
   "source": [
    "37. Convert a set to a tuple."
   ]
  },
  {
   "cell_type": "code",
   "execution_count": 56,
   "id": "f065703a-562d-4f00-bdfc-4ee86899b0e7",
   "metadata": {},
   "outputs": [
    {
     "data": {
      "text/plain": [
       "(1, 2, 3, 4)"
      ]
     },
     "execution_count": 56,
     "metadata": {},
     "output_type": "execute_result"
    }
   ],
   "source": [
    "s1 = {1,2,3,4}\n",
    "\n",
    "s2=tuple(s1)\n",
    "s2"
   ]
  },
  {
   "cell_type": "code",
   "execution_count": null,
   "id": "4f77db08-6b1a-47b1-a59a-48c37e11af85",
   "metadata": {},
   "outputs": [],
   "source": [
    "38. Find the maximum value in a set."
   ]
  },
  {
   "cell_type": "code",
   "execution_count": 59,
   "id": "098eaf57-0317-4b07-adc3-2ac3b1ff283e",
   "metadata": {},
   "outputs": [
    {
     "data": {
      "text/plain": [
       "43545"
      ]
     },
     "execution_count": 59,
     "metadata": {},
     "output_type": "execute_result"
    }
   ],
   "source": [
    "s1 = {12,3,4,5,43545,5,6,65}\n",
    "s3=max(s1)\n",
    "s3"
   ]
  },
  {
   "cell_type": "code",
   "execution_count": null,
   "id": "ab3306cd-8a1a-4eb2-8573-e574aa6ccd7b",
   "metadata": {},
   "outputs": [],
   "source": [
    "39. Find the minimum value in a set."
   ]
  },
  {
   "cell_type": "code",
   "execution_count": 61,
   "id": "4b50620f-92c8-4654-8697-9b98d3af512d",
   "metadata": {},
   "outputs": [
    {
     "data": {
      "text/plain": [
       "3"
      ]
     },
     "execution_count": 61,
     "metadata": {},
     "output_type": "execute_result"
    }
   ],
   "source": [
    "s1 = {12,3,4,5,43545,5,6,65}\n",
    "s2=min(s1)\n",
    "s2"
   ]
  },
  {
   "cell_type": "code",
   "execution_count": null,
   "id": "07445c5d-437f-4f66-9aad-d71cb7312294",
   "metadata": {},
   "outputs": [],
   "source": [
    "40. Create a set from user input."
   ]
  },
  {
   "cell_type": "code",
   "execution_count": 64,
   "id": "54947997-a149-4dc1-9c6b-fdca7e4f485a",
   "metadata": {},
   "outputs": [
    {
     "name": "stdin",
     "output_type": "stream",
     "text": [
      "enter the int 673482\n"
     ]
    },
    {
     "data": {
      "text/plain": [
       "{'2', '3', '4', '6', '7', '8'}"
      ]
     },
     "execution_count": 64,
     "metadata": {},
     "output_type": "execute_result"
    }
   ],
   "source": [
    "s1=set(input('enter the int'))\n",
    "s1"
   ]
  },
  {
   "cell_type": "code",
   "execution_count": null,
   "id": "f902bc8a-e589-44fb-ab32-e45b48ba4743",
   "metadata": {},
   "outputs": [],
   "source": [
    "41. Check if the intersection of two sets is empty."
   ]
  },
  {
   "cell_type": "code",
   "execution_count": 83,
   "id": "fa62ea86-7ef9-45ac-b236-585aec5da392",
   "metadata": {},
   "outputs": [
    {
     "data": {
      "text/plain": [
       "set()"
      ]
     },
     "execution_count": 83,
     "metadata": {},
     "output_type": "execute_result"
    }
   ],
   "source": [
    "s ={14,24,34,44,89}\n",
    "s1 ={514,254,345,445,895}\n",
    "s3=s.intersection(s1)\n",
    "s3"
   ]
  },
  {
   "cell_type": "code",
   "execution_count": null,
   "id": "d64eea05-23d3-4fe2-b357-78bb5f49289a",
   "metadata": {},
   "outputs": [],
   "source": [
    "43. Remove duplicates from a list using sets."
   ]
  },
  {
   "cell_type": "code",
   "execution_count": 14,
   "id": "5ad3c9c9-bb39-48ad-b619-93fb01c4be1b",
   "metadata": {},
   "outputs": [
    {
     "data": {
      "text/plain": [
       "[1, 66, 3, 55, 456, 745, 77]"
      ]
     },
     "execution_count": 14,
     "metadata": {},
     "output_type": "execute_result"
    }
   ],
   "source": [
    "l = {1,1,1,3,3,3,55,66,77,77,745,456}\n",
    "s1=set(l)\n",
    "s2=list(s1)\n",
    "s2"
   ]
  },
  {
   "cell_type": "code",
   "execution_count": null,
   "id": "62f2bcc3-79cb-4cc7-a121-bf1539d2e8e4",
   "metadata": {},
   "outputs": [],
   "source": [
    "44. Check if two sets have the same elements, regardless of their count."
   ]
  },
  {
   "cell_type": "code",
   "execution_count": 16,
   "id": "755be891-7950-4c03-9399-ada5e2a73018",
   "metadata": {},
   "outputs": [
    {
     "data": {
      "text/plain": [
       "{1, 2, 3, 5}"
      ]
     },
     "execution_count": 16,
     "metadata": {},
     "output_type": "execute_result"
    }
   ],
   "source": [
    "s = {1,2,3,4,5,6}\n",
    "s1 = {22,2,1,3,5,2}\n",
    "s.intersection(s1)"
   ]
  },
  {
   "cell_type": "code",
   "execution_count": null,
   "id": "4110afeb-8e66-44f8-bee6-66861374bf8c",
   "metadata": {},
   "outputs": [],
   "source": [
    "45. Create a set of the first `n` powers of 2."
   ]
  },
  {
   "cell_type": "code",
   "execution_count": 80,
   "id": "9b7277b3-946d-4809-92ee-af7f977db2c4",
   "metadata": {},
   "outputs": [
    {
     "data": {
      "text/plain": [
       "{0, 1, 4, 9, 16}"
      ]
     },
     "execution_count": 80,
     "metadata": {},
     "output_type": "execute_result"
    }
   ],
   "source": [
    "n = 5\n",
    "s1={i**2 for i in range(n)}\n",
    "s1"
   ]
  },
  {
   "cell_type": "code",
   "execution_count": null,
   "id": "1306dd93-e690-4766-9dab-a2e824d1af86",
   "metadata": {},
   "outputs": [],
   "source": [
    "46. Find the common elements between a set and a list."
   ]
  },
  {
   "cell_type": "code",
   "execution_count": 83,
   "id": "e914ff02-c325-4b2a-b44e-42cd54edfa4e",
   "metadata": {},
   "outputs": [
    {
     "name": "stdout",
     "output_type": "stream",
     "text": [
      "common_element [1, 2, 3, 5]\n"
     ]
    }
   ],
   "source": [
    "s1={1,2,3,4,5,6,7}\n",
    "l = [22,1,2,3,54,45,5]\n",
    "l2=set(l)\n",
    "common_element=[]\n",
    "for element in s1:\n",
    "    if element in l2:\n",
    "        common_element.append(element)\n",
    "print('common_element',common_element)\n",
    "    "
   ]
  },
  {
   "cell_type": "code",
   "execution_count": null,
   "id": "f6ee21a5-6989-4e2a-be3f-2baa8c7072c7",
   "metadata": {},
   "outputs": [],
   "source": [
    "48. Check if a set contains another set as a subset."
   ]
  },
  {
   "cell_type": "code",
   "execution_count": 84,
   "id": "b39e9200-ded7-49a7-9e02-6fd48e3c01ba",
   "metadata": {},
   "outputs": [
    {
     "name": "stdout",
     "output_type": "stream",
     "text": [
      "set2 is a subset of set1\n"
     ]
    }
   ],
   "source": [
    "set1 = {1, 2, 3, 4, 5}\n",
    "set2 = {3, 4}\n",
    "\n",
    "# Check if set2 is a subset of set1\n",
    "is_subset = set2.issubset(set1)\n",
    "\n",
    "# Print the result\n",
    "if is_subset:\n",
    "    print(\"set2 is a subset of set1\")\n",
    "else:\n",
    "    print(\"set2 is not a subset of set1\")"
   ]
  },
  {
   "cell_type": "code",
   "execution_count": null,
   "id": "cb289e91-df55-4b51-ae23-6ad8b7b31a0a",
   "metadata": {},
   "outputs": [],
   "source": [
    "50. Merge multiple sets into one."
   ]
  },
  {
   "cell_type": "code",
   "execution_count": 19,
   "id": "5130ffad-f33c-4d43-85be-166a740e6755",
   "metadata": {},
   "outputs": [
    {
     "data": {
      "text/plain": [
       "{1, 2, 3, 4, 5, 6}"
      ]
     },
     "execution_count": 19,
     "metadata": {},
     "output_type": "execute_result"
    }
   ],
   "source": [
    "s = {1,2,3}\n",
    "s1 = {4,5,6}\n",
    "s.union(s1)"
   ]
  },
  {
   "cell_type": "markdown",
   "id": "aa3d248b-0b00-465a-b98b-9902afedc2b3",
   "metadata": {},
   "source": [
    "## Tuple Based Practice Problem :"
   ]
  },
  {
   "cell_type": "code",
   "execution_count": null,
   "id": "44e35346-a654-41a1-96fb-55fb0e8b7ee7",
   "metadata": {},
   "outputs": [],
   "source": [
    "1. Create a tuple with integers from 1 to 5."
   ]
  },
  {
   "cell_type": "code",
   "execution_count": 21,
   "id": "e7c7318c-9c04-42ab-8b73-0d0d1a016ced",
   "metadata": {},
   "outputs": [
    {
     "data": {
      "text/plain": [
       "(1, 2, 3, 4, 5)"
      ]
     },
     "execution_count": 21,
     "metadata": {},
     "output_type": "execute_result"
    }
   ],
   "source": [
    "t = (1,2,3,4,5)\n",
    "t"
   ]
  },
  {
   "cell_type": "code",
   "execution_count": null,
   "id": "ac1570dc-0a89-483a-b949-79a70df3ed21",
   "metadata": {},
   "outputs": [],
   "source": [
    "2. Access the third element of a tuple."
   ]
  },
  {
   "cell_type": "code",
   "execution_count": 24,
   "id": "80b5d23f-8bcb-4596-8da6-9c22a5c23758",
   "metadata": {},
   "outputs": [
    {
     "data": {
      "text/plain": [
       "3"
      ]
     },
     "execution_count": 24,
     "metadata": {},
     "output_type": "execute_result"
    }
   ],
   "source": [
    "t = (1,2,3,4,5)\n",
    "t[2]"
   ]
  },
  {
   "cell_type": "code",
   "execution_count": null,
   "id": "7527e2e1-0c2d-4c37-bb2c-acd7217a26ec",
   "metadata": {},
   "outputs": [],
   "source": [
    "3. Find the length of a tuple without using the `len()` function."
   ]
  },
  {
   "cell_type": "code",
   "execution_count": 25,
   "id": "7a509dcf-fa30-4ecd-bc99-34aca8b31ce0",
   "metadata": {},
   "outputs": [
    {
     "name": "stdout",
     "output_type": "stream",
     "text": [
      "5\n"
     ]
    }
   ],
   "source": [
    "s ={1,2,3,4,5}\n",
    "count = 0\n",
    "for i in s:\n",
    "    count=count+1\n",
    "print(count)"
   ]
  },
  {
   "cell_type": "code",
   "execution_count": null,
   "id": "142cf113-5089-4040-bb96-3b129b8c29f5",
   "metadata": {},
   "outputs": [],
   "source": [
    "4. Count the occurrences of an element in a tuple."
   ]
  },
  {
   "cell_type": "code",
   "execution_count": 27,
   "id": "beb0900c-b454-462c-b403-155a2ff09dcb",
   "metadata": {},
   "outputs": [],
   "source": [
    "t=(1,1,2,2,3,4)"
   ]
  },
  {
   "cell_type": "code",
   "execution_count": 29,
   "id": "24300c23-a5c1-439c-a581-c6a93188b536",
   "metadata": {},
   "outputs": [
    {
     "data": {
      "text/plain": [
       "2"
      ]
     },
     "execution_count": 29,
     "metadata": {},
     "output_type": "execute_result"
    }
   ],
   "source": [
    "t.count(1)"
   ]
  },
  {
   "cell_type": "code",
   "execution_count": null,
   "id": "fecc1a7b-cd6a-4f85-83b0-d9afcdcc303b",
   "metadata": {},
   "outputs": [],
   "source": [
    "5. Find the index of the first occurrence of an element in a tuple."
   ]
  },
  {
   "cell_type": "code",
   "execution_count": 30,
   "id": "95a74ac6-9243-4162-bb38-75ce3adc5229",
   "metadata": {},
   "outputs": [
    {
     "data": {
      "text/plain": [
       "1"
      ]
     },
     "execution_count": 30,
     "metadata": {},
     "output_type": "execute_result"
    }
   ],
   "source": [
    "t = (1,2,3,4,5,)\n",
    "t[0]"
   ]
  },
  {
   "cell_type": "code",
   "execution_count": null,
   "id": "d23b3f5f-047b-468e-ada3-d8a597044e90",
   "metadata": {},
   "outputs": [],
   "source": [
    "6. Check if an element exists in a tuple."
   ]
  },
  {
   "cell_type": "code",
   "execution_count": 34,
   "id": "100dbcbb-8192-4b13-a2d7-20abd342d100",
   "metadata": {},
   "outputs": [
    {
     "name": "stdout",
     "output_type": "stream",
     "text": [
      "available\n"
     ]
    }
   ],
   "source": [
    "t = (1,2,3,4)\n",
    "if 1 in t:\n",
    "    print('available')\n",
    "else:\n",
    "    print('not available')"
   ]
  },
  {
   "cell_type": "code",
   "execution_count": null,
   "id": "31fcc531-40a1-439e-94cb-8f74263454e1",
   "metadata": {},
   "outputs": [],
   "source": [
    "7. Convert a tuple to a list."
   ]
  },
  {
   "cell_type": "code",
   "execution_count": 35,
   "id": "3d0dd482-aaba-4a01-93be-5039d2cab589",
   "metadata": {},
   "outputs": [
    {
     "data": {
      "text/plain": [
       "[1, 2, 3, 4, 5]"
      ]
     },
     "execution_count": 35,
     "metadata": {},
     "output_type": "execute_result"
    }
   ],
   "source": [
    "t = (1,2,3,4,5)\n",
    "list(t)"
   ]
  },
  {
   "cell_type": "code",
   "execution_count": null,
   "id": "16d64fe5-9677-4372-9c54-eb0fff2cec45",
   "metadata": {},
   "outputs": [],
   "source": [
    "8. Convert a list to a tuple."
   ]
  },
  {
   "cell_type": "code",
   "execution_count": 36,
   "id": "334affd2-94e1-4cc2-b03c-52dbdf4ca9ed",
   "metadata": {},
   "outputs": [
    {
     "data": {
      "text/plain": [
       "(2, 3, 4, 5)"
      ]
     },
     "execution_count": 36,
     "metadata": {},
     "output_type": "execute_result"
    }
   ],
   "source": [
    "l =[2,3,4,5]\n",
    "tuple(l)"
   ]
  },
  {
   "cell_type": "code",
   "execution_count": null,
   "id": "81a3209f-aa85-41cc-9ec6-db9ae24100ab",
   "metadata": {},
   "outputs": [],
   "source": [
    "9. Unpack the elements of a tuple into variables."
   ]
  },
  {
   "cell_type": "code",
   "execution_count": 38,
   "id": "f201414d-5f2e-4f61-b4b8-f4147ad0b113",
   "metadata": {},
   "outputs": [
    {
     "data": {
      "text/plain": [
       "tuple"
      ]
     },
     "execution_count": 38,
     "metadata": {},
     "output_type": "execute_result"
    }
   ],
   "source": [
    "t = 1,2,3,\"avichal\",78\n",
    "type(t)"
   ]
  },
  {
   "cell_type": "code",
   "execution_count": null,
   "id": "1a5c83cb-660f-4d88-86ec-da5d3361d5f8",
   "metadata": {},
   "outputs": [],
   "source": [
    "10. Create a tuple of even numbers from 1 to 10."
   ]
  },
  {
   "cell_type": "code",
   "execution_count": 44,
   "id": "d16605a6-0378-45eb-82d2-3cfcfbaa6238",
   "metadata": {},
   "outputs": [
    {
     "data": {
      "text/plain": [
       "(0, 2, 4, 6, 8)"
      ]
     },
     "execution_count": 44,
     "metadata": {},
     "output_type": "execute_result"
    }
   ],
   "source": [
    "l=[]\n",
    "for i in range(0,10,2):\n",
    "    l.append(i)\n",
    "tuple(l)"
   ]
  },
  {
   "cell_type": "code",
   "execution_count": null,
   "id": "b4ade770-78ea-468d-8e29-8a69932b6a78",
   "metadata": {},
   "outputs": [],
   "source": [
    "11. Create a tuple of odd numbers from 1 to 10."
   ]
  },
  {
   "cell_type": "code",
   "execution_count": 45,
   "id": "dd1f3fbc-842c-4bf7-aef1-683309e3491b",
   "metadata": {},
   "outputs": [
    {
     "data": {
      "text/plain": [
       "(1, 3, 5, 7, 9)"
      ]
     },
     "execution_count": 45,
     "metadata": {},
     "output_type": "execute_result"
    }
   ],
   "source": [
    "t = (1,2,3,4,5,6,7,8,9,10)\n",
    "tuple(filter(lambda x : x%2!=0 , t))"
   ]
  },
  {
   "cell_type": "code",
   "execution_count": null,
   "id": "e81319f5-55e4-44c7-82ef-5c77443a25ae",
   "metadata": {},
   "outputs": [],
   "source": [
    "12. Concatenate two tuples."
   ]
  },
  {
   "cell_type": "code",
   "execution_count": 46,
   "id": "55ef9c5f-e552-4648-be18-ec0a39ae9560",
   "metadata": {},
   "outputs": [
    {
     "data": {
      "text/plain": [
       "(1, 2, 3, 4, 5, 2, 3, 4, 5, 5)"
      ]
     },
     "execution_count": 46,
     "metadata": {},
     "output_type": "execute_result"
    }
   ],
   "source": [
    "t= (1,2,3,4,5)\n",
    "t1 = (2,3,4,5,5)\n",
    "t+t1"
   ]
  },
  {
   "cell_type": "code",
   "execution_count": null,
   "id": "dfafe3be-63c9-4f6b-9c9c-f0c1fa6ce5cd",
   "metadata": {},
   "outputs": [],
   "source": [
    "13. Repeat a tuple three times."
   ]
  },
  {
   "cell_type": "code",
   "execution_count": 49,
   "id": "d3d7e34f-5bad-44f1-bf27-dc6a91e8b3e2",
   "metadata": {},
   "outputs": [
    {
     "data": {
      "text/plain": [
       "(1, 2, 3, 4, 5, 1, 2, 3, 4, 5, 1, 2, 3, 4, 5)"
      ]
     },
     "execution_count": 49,
     "metadata": {},
     "output_type": "execute_result"
    }
   ],
   "source": [
    "t*3"
   ]
  },
  {
   "cell_type": "code",
   "execution_count": null,
   "id": "7a17bc7e-5f7f-4e05-a41b-8e0e50e8c2c0",
   "metadata": {},
   "outputs": [],
   "source": [
    "14. Check if a tuple is empty."
   ]
  },
  {
   "cell_type": "code",
   "execution_count": 74,
   "id": "393febb8-4057-4c99-9c2e-2ea78cca9e32",
   "metadata": {},
   "outputs": [
    {
     "name": "stdout",
     "output_type": "stream",
     "text": [
      "empty\n"
     ]
    }
   ],
   "source": [
    "t =()\n",
    "if not t:\n",
    "    print('empty')\n",
    "else:\n",
    "    print(t)"
   ]
  },
  {
   "cell_type": "code",
   "execution_count": null,
   "id": "c3852e55-41c1-49e8-ab42-25c1a64e1103",
   "metadata": {},
   "outputs": [],
   "source": [
    "15. Create a nested tuple."
   ]
  },
  {
   "cell_type": "code",
   "execution_count": 78,
   "id": "4afd290b-01e5-49d7-8a2a-780bbbc6549f",
   "metadata": {},
   "outputs": [
    {
     "data": {
      "text/plain": [
       "(1, 2, 3, 4, 'avichal', 45, 56, (12, 34, 5))"
      ]
     },
     "execution_count": 78,
     "metadata": {},
     "output_type": "execute_result"
    }
   ],
   "source": [
    "t = (1,2,3,4,('avichal'),45,56,(12,34,5))\n",
    "t"
   ]
  },
  {
   "cell_type": "code",
   "execution_count": null,
   "id": "8a70638b-34c5-4ca2-86c2-fe06d511f58a",
   "metadata": {},
   "outputs": [],
   "source": [
    "16. Access the first element of a nested tuple."
   ]
  },
  {
   "cell_type": "code",
   "execution_count": 79,
   "id": "a3f95e73-c4b3-4445-8884-e63abea8cfdf",
   "metadata": {},
   "outputs": [
    {
     "data": {
      "text/plain": [
       "(1, 2, 3, 4, 'avichal', 45, 56, (12, 34, 5))"
      ]
     },
     "execution_count": 79,
     "metadata": {},
     "output_type": "execute_result"
    }
   ],
   "source": [
    "t"
   ]
  },
  {
   "cell_type": "code",
   "execution_count": 80,
   "id": "614e72f1-beed-472d-be6b-4b2611fa668b",
   "metadata": {},
   "outputs": [
    {
     "data": {
      "text/plain": [
       "1"
      ]
     },
     "execution_count": 80,
     "metadata": {},
     "output_type": "execute_result"
    }
   ],
   "source": [
    "t[0]"
   ]
  },
  {
   "cell_type": "code",
   "execution_count": null,
   "id": "18e01b00-1a5e-4eeb-bba9-bedb4a294779",
   "metadata": {},
   "outputs": [],
   "source": [
    "17. Create a tuple with a single element."
   ]
  },
  {
   "cell_type": "code",
   "execution_count": 81,
   "id": "7e695ca5-8665-437c-8edc-a843de21d0d9",
   "metadata": {},
   "outputs": [],
   "source": [
    "t =(1)"
   ]
  },
  {
   "cell_type": "code",
   "execution_count": 82,
   "id": "8fb98f3a-f7bd-4e87-a2ef-21c64f2f4c01",
   "metadata": {},
   "outputs": [
    {
     "data": {
      "text/plain": [
       "1"
      ]
     },
     "execution_count": 82,
     "metadata": {},
     "output_type": "execute_result"
    }
   ],
   "source": [
    "t"
   ]
  },
  {
   "cell_type": "code",
   "execution_count": null,
   "id": "5d56e9e7-20d5-452b-b537-356fcf891c81",
   "metadata": {},
   "outputs": [],
   "source": [
    "18. Compare two tuples."
   ]
  },
  {
   "cell_type": "code",
   "execution_count": 87,
   "id": "783037f7-8ec4-45f5-ac3e-6b1788189f39",
   "metadata": {},
   "outputs": [
    {
     "data": {
      "text/plain": [
       "True"
      ]
     },
     "execution_count": 87,
     "metadata": {},
     "output_type": "execute_result"
    }
   ],
   "source": [
    "t = (3,4,5,6,6)\n",
    "t1 = (3,4,5,6,6)\n",
    "t3= t==t1\n",
    "t3"
   ]
  },
  {
   "cell_type": "code",
   "execution_count": null,
   "id": "72425092-1b88-4b72-860c-2e4fa2c4da51",
   "metadata": {},
   "outputs": [],
   "source": [
    "19. Delete a tuple."
   ]
  },
  {
   "cell_type": "code",
   "execution_count": 89,
   "id": "dbb230de-0d15-4501-9bad-aabe5ae5e5db",
   "metadata": {},
   "outputs": [],
   "source": [
    "del t"
   ]
  },
  {
   "cell_type": "code",
   "execution_count": null,
   "id": "b9968e8d-5ffb-4590-b465-3aa76c9ead40",
   "metadata": {},
   "outputs": [],
   "source": [
    "20. Slice a tuple."
   ]
  },
  {
   "cell_type": "code",
   "execution_count": 90,
   "id": "8a793509-cb0b-4f1c-abd7-311eecac19eb",
   "metadata": {},
   "outputs": [
    {
     "data": {
      "text/plain": [
       "(1, 3, 5)"
      ]
     },
     "execution_count": 90,
     "metadata": {},
     "output_type": "execute_result"
    }
   ],
   "source": [
    "t = (1,2,3,4,5)\n",
    "t[0:6:2]"
   ]
  },
  {
   "cell_type": "code",
   "execution_count": null,
   "id": "f7de5aa4-8196-4c12-b8ff-424a35533d6a",
   "metadata": {},
   "outputs": [],
   "source": [
    "21. Find the maximum value in a tuple."
   ]
  },
  {
   "cell_type": "code",
   "execution_count": 91,
   "id": "cd45af31-ef0b-4d61-977a-f7125d098601",
   "metadata": {},
   "outputs": [
    {
     "data": {
      "text/plain": [
       "(1, 2, 3, 4, 5)"
      ]
     },
     "execution_count": 91,
     "metadata": {},
     "output_type": "execute_result"
    }
   ],
   "source": [
    "t"
   ]
  },
  {
   "cell_type": "code",
   "execution_count": 92,
   "id": "cf47dea0-c8b0-4dd7-ae13-8c1ef6380356",
   "metadata": {},
   "outputs": [
    {
     "data": {
      "text/plain": [
       "5"
      ]
     },
     "execution_count": 92,
     "metadata": {},
     "output_type": "execute_result"
    }
   ],
   "source": [
    "max(t)"
   ]
  },
  {
   "cell_type": "code",
   "execution_count": null,
   "id": "a0dd0a18-149e-40bf-bcf0-2dbadce20fd9",
   "metadata": {},
   "outputs": [],
   "source": [
    "22. Find the minimum value in a tuple."
   ]
  },
  {
   "cell_type": "code",
   "execution_count": 93,
   "id": "0f3e6c29-495f-46bf-94f0-6800bb07f423",
   "metadata": {},
   "outputs": [
    {
     "data": {
      "text/plain": [
       "(1, 2, 3, 4, 5)"
      ]
     },
     "execution_count": 93,
     "metadata": {},
     "output_type": "execute_result"
    }
   ],
   "source": [
    "t"
   ]
  },
  {
   "cell_type": "code",
   "execution_count": 94,
   "id": "50d99742-8550-4ccb-956e-db36fda0ad95",
   "metadata": {},
   "outputs": [
    {
     "data": {
      "text/plain": [
       "1"
      ]
     },
     "execution_count": 94,
     "metadata": {},
     "output_type": "execute_result"
    }
   ],
   "source": [
    "min(t)"
   ]
  },
  {
   "cell_type": "code",
   "execution_count": null,
   "id": "ff282083-306c-4573-964d-74070c59d3b6",
   "metadata": {},
   "outputs": [],
   "source": [
    "23. Convert a string to a tuple of characters."
   ]
  },
  {
   "cell_type": "code",
   "execution_count": 98,
   "id": "fe9f7996-3fd0-4bbb-9d05-d107523251ab",
   "metadata": {},
   "outputs": [
    {
     "data": {
      "text/plain": [
       "('h', 'e', 'l', 'l', 'o', ' ', 'w', 'o', 'r', 'l', 'd')"
      ]
     },
     "execution_count": 98,
     "metadata": {},
     "output_type": "execute_result"
    }
   ],
   "source": [
    "s = \"hello world\"\n",
    "s1=tuple(s)\n",
    "s1\n"
   ]
  },
  {
   "cell_type": "code",
   "execution_count": null,
   "id": "b25d60a8-3cae-4175-82ea-f2f6ed5e66b7",
   "metadata": {},
   "outputs": [],
   "source": [
    "24. Convert a tuple of characters to a string."
   ]
  },
  {
   "cell_type": "code",
   "execution_count": 99,
   "id": "852f1f1a-6644-4e1d-92b8-0586ceb88348",
   "metadata": {},
   "outputs": [
    {
     "data": {
      "text/plain": [
       "('h', 'e', 'l', 'l', 'o', ' ', 'w', 'o', 'r', 'l', 'd')"
      ]
     },
     "execution_count": 99,
     "metadata": {},
     "output_type": "execute_result"
    }
   ],
   "source": [
    "s1"
   ]
  },
  {
   "cell_type": "code",
   "execution_count": 100,
   "id": "325c3f4a-5555-4680-bff3-95ec5811c474",
   "metadata": {},
   "outputs": [
    {
     "data": {
      "text/plain": [
       "\"('h', 'e', 'l', 'l', 'o', ' ', 'w', 'o', 'r', 'l', 'd')\""
      ]
     },
     "execution_count": 100,
     "metadata": {},
     "output_type": "execute_result"
    }
   ],
   "source": [
    "str(s1)"
   ]
  },
  {
   "cell_type": "code",
   "execution_count": null,
   "id": "3063f8c1-5b90-4b7d-b844-bea4f8ec0ee9",
   "metadata": {},
   "outputs": [],
   "source": [
    "25. Create a tuple from multiple data types."
   ]
  },
  {
   "cell_type": "code",
   "execution_count": 102,
   "id": "f10921be-9a26-447b-9194-6007fa714c86",
   "metadata": {},
   "outputs": [
    {
     "data": {
      "text/plain": [
       "(1, 2, 3, 'avi', [1, 2, 3, 4], {1, 2, 3, 4}, {'key': 'values'})"
      ]
     },
     "execution_count": 102,
     "metadata": {},
     "output_type": "execute_result"
    }
   ],
   "source": [
    "t = (1,2,3,\"avi\",[1,2,3,4],{1,2,3,4},{'key':'values'})\n",
    "t"
   ]
  },
  {
   "cell_type": "code",
   "execution_count": null,
   "id": "81e8681a-1d8d-489a-a8b4-10041985bf46",
   "metadata": {},
   "outputs": [],
   "source": [
    "26. Check if two tuples are identical."
   ]
  },
  {
   "cell_type": "code",
   "execution_count": 9,
   "id": "15ac7764-bb30-4b32-a86b-0740fb130960",
   "metadata": {},
   "outputs": [
    {
     "name": "stdout",
     "output_type": "stream",
     "text": [
      "tuple is identical\n"
     ]
    }
   ],
   "source": [
    "t = (1,2,3,4,5)\n",
    "t2 = (1,2,3,4,5)\n",
    "if t[0:20]==t2[0:20]:\n",
    "    print('tuple is identical')\n",
    "else:\n",
    "    print('tuple is not identical')"
   ]
  },
  {
   "cell_type": "code",
   "execution_count": null,
   "id": "03bfd951-4e63-4ae3-a969-062dcaf592b8",
   "metadata": {},
   "outputs": [],
   "source": [
    "27. Sort the elements of a tuple."
   ]
  },
  {
   "cell_type": "code",
   "execution_count": 16,
   "id": "4da28788-3a74-4d96-98aa-933195d718ff",
   "metadata": {},
   "outputs": [],
   "source": [
    "t = (11,2,3,41,5)\n",
    "l=list(t)\n",
    "\n"
   ]
  },
  {
   "cell_type": "code",
   "execution_count": 21,
   "id": "44e63619-532f-4f81-b709-c2f90d482816",
   "metadata": {},
   "outputs": [],
   "source": [
    "l.sort()"
   ]
  },
  {
   "cell_type": "code",
   "execution_count": 24,
   "id": "b483958a-3639-4b05-affa-73e17c7ee650",
   "metadata": {},
   "outputs": [
    {
     "data": {
      "text/plain": [
       "(2, 3, 5, 11, 41)"
      ]
     },
     "execution_count": 24,
     "metadata": {},
     "output_type": "execute_result"
    }
   ],
   "source": [
    "tuple(l)"
   ]
  },
  {
   "cell_type": "code",
   "execution_count": null,
   "id": "a4cba62b-c89b-4bd5-b799-011a3133bf0e",
   "metadata": {},
   "outputs": [],
   "source": [
    "28. Convert a tuple of integers to a tuple of strings."
   ]
  },
  {
   "cell_type": "code",
   "execution_count": 61,
   "id": "4f7c7855-a8a5-4a96-ba0d-8f63f0603e31",
   "metadata": {},
   "outputs": [
    {
     "data": {
      "text/plain": [
       "('1', '2', '3', '4', '5')"
      ]
     },
     "execution_count": 61,
     "metadata": {},
     "output_type": "execute_result"
    }
   ],
   "source": [
    "t = (12345)\n",
    "w1=str(t)\n",
    "w2=tuple(w1)\n",
    "w2"
   ]
  },
  {
   "cell_type": "code",
   "execution_count": null,
   "id": "8274a7b7-bd5a-4335-b854-b843713f5afa",
   "metadata": {},
   "outputs": [],
   "source": [
    "29. Convert a tuple of strings to a tuple of integers."
   ]
  },
  {
   "cell_type": "code",
   "execution_count": 69,
   "id": "6f0ab44a-41c6-4362-9581-a52ecc029f3f",
   "metadata": {},
   "outputs": [
    {
     "name": "stdout",
     "output_type": "stream",
     "text": [
      "the original tuple is ('1', '2', '3', '4', '5')\n",
      "the modified tuple is (1, 2, 3, 4, 5)\n"
     ]
    }
   ],
   "source": [
    "t1=tuple(map(int,w2))\n",
    "print(f'the original tuple is {w2}')\n",
    "print(f'the modified tuple is {t1}')\n"
   ]
  },
  {
   "cell_type": "code",
   "execution_count": null,
   "id": "af08ac96-63ba-42e5-a2a0-b42e839a37ff",
   "metadata": {},
   "outputs": [],
   "source": [
    "30. Merge two tuples."
   ]
  },
  {
   "cell_type": "code",
   "execution_count": 71,
   "id": "fdb276b9-ad15-4388-8c09-34d17b36c552",
   "metadata": {},
   "outputs": [
    {
     "name": "stdout",
     "output_type": "stream",
     "text": [
      "the original tuple is (1, 2, 3, 3, 5) and (44, 5, 6, 7, 8)\n",
      "the modified tuple is (1, 2, 3, 3, 5, 44, 5, 6, 7, 8)\n"
     ]
    }
   ],
   "source": [
    "t = (1,2,3,3,5)\n",
    "t1= (44,5,6,7,8)\n",
    "print(f'the original tuple is {t} and {t1}')\n",
    "t2=t +t1\n",
    "print(f'the modified tuple is {t2}')"
   ]
  },
  {
   "cell_type": "code",
   "execution_count": null,
   "id": "68d0c82b-ac9c-420c-b3fe-ac5f0323d496",
   "metadata": {},
   "outputs": [],
   "source": [
    "31. Flatten a nested tuple."
   ]
  },
  {
   "cell_type": "code",
   "execution_count": 91,
   "id": "65087a6a-d859-4cf4-9c48-5f8626eae855",
   "metadata": {},
   "outputs": [
    {
     "name": "stdout",
     "output_type": "stream",
     "text": [
      "the nested tuple is((1, 2, 3, 3), (125, 567, 77), (45, 56, 78))\n",
      "the flatten tuple is (1, 2, 3, 3, 125, 567, 77, 45, 56, 78) \n"
     ]
    }
   ],
   "source": [
    "import itertools as tr\n",
    "t=((1,2,3,3),(125,567,77),(45,56,78))\n",
    "t2=tuple(tr.chain.from_iterable(t))\n",
    "print(f'the nested tuple is{t}')\n",
    "print(f'the flatten tuple is {t2} ')\n",
    "\n"
   ]
  },
  {
   "cell_type": "code",
   "execution_count": null,
   "id": "0bab15ae-5fe4-40fe-95fe-d7d16d7efa28",
   "metadata": {},
   "outputs": [],
   "source": [
    "32. Create a tuple of the first 5 prime numbers."
   ]
  },
  {
   "cell_type": "code",
   "execution_count": 102,
   "id": "dffc162a-0790-4832-b58f-695d35a771d9",
   "metadata": {},
   "outputs": [
    {
     "name": "stdout",
     "output_type": "stream",
     "text": [
      "tuple of the first 5 prime numbers is(1, 3, 5)\n"
     ]
    }
   ],
   "source": [
    "t = (1,2,3,4,5)\n",
    "t3=tuple(filter(lambda x :  x%2!=0 ,t ))\n",
    "print(f'tuple of the first 5 prime numbers is{t3}')"
   ]
  },
  {
   "cell_type": "code",
   "execution_count": null,
   "id": "8f77cb01-b0fe-4e21-9ba2-13aab748fe8d",
   "metadata": {},
   "outputs": [],
   "source": [
    "33. Check if a tuple is a palindrome."
   ]
  },
  {
   "cell_type": "code",
   "execution_count": 109,
   "id": "7a42d601-69e5-4a32-af98-cc407fd3ab51",
   "metadata": {},
   "outputs": [
    {
     "name": "stdout",
     "output_type": "stream",
     "text": [
      "tuple is palindrome\n"
     ]
    }
   ],
   "source": [
    "t = ('mom')\n",
    "if t[0:20]==t[::-1]:\n",
    "    print(f'tuple is palindrome')\n",
    "else:\n",
    "    print(f'tuple is not palindrome')"
   ]
  },
  {
   "cell_type": "code",
   "execution_count": null,
   "id": "9b67040d-72f3-4449-86c6-359e602014bc",
   "metadata": {},
   "outputs": [],
   "source": [
    "34. Create a tuple of squares of numbers from 1 to 5."
   ]
  },
  {
   "cell_type": "code",
   "execution_count": 111,
   "id": "61648dcb-21a7-4557-889b-742c94a8503c",
   "metadata": {},
   "outputs": [
    {
     "name": "stdout",
     "output_type": "stream",
     "text": [
      "the square of 1 to 5 of tuple is (1, 4, 9, 16, 25)\n"
     ]
    }
   ],
   "source": [
    "t = (1,2,3,4,5)\n",
    "t3=tuple(map(lambda x : x**2 ,t))\n",
    "print(f'the square of 1 to 5 of tuple is {t3}')"
   ]
  },
  {
   "cell_type": "code",
   "execution_count": null,
   "id": "985d219d-ba13-4dfe-ab85-4d99a0ead906",
   "metadata": {},
   "outputs": [],
   "source": [
    "35. Filter out all even numbers from a tuple."
   ]
  },
  {
   "cell_type": "code",
   "execution_count": 115,
   "id": "02d322ad-5008-46b8-b820-64d1d33ad4dd",
   "metadata": {},
   "outputs": [
    {
     "name": "stdout",
     "output_type": "stream",
     "text": [
      "All even numbers from a tuple(2, 4, 6, 78, 8, 676, 64, 4)\n"
     ]
    }
   ],
   "source": [
    "t =(2,3,4,5,6,78,8,9,67,676,75,65,64,4)\n",
    "t3=tuple(filter(lambda x : x%2==0,t))\n",
    "print(f'All even numbers from a tuple{t3}')"
   ]
  },
  {
   "cell_type": "code",
   "execution_count": null,
   "id": "66927713-a555-41aa-832e-6c68e3bbf371",
   "metadata": {},
   "outputs": [],
   "source": [
    "36. Multiply all elements in a tuple by 2."
   ]
  },
  {
   "cell_type": "code",
   "execution_count": 116,
   "id": "1e2c8549-007a-49d4-a33c-ab877996a7fc",
   "metadata": {},
   "outputs": [
    {
     "name": "stdout",
     "output_type": "stream",
     "text": [
      "all elements in a tuple by 2(4, 6, 8, 10, 12, 156, 16, 18, 134, 1352, 150, 130, 128, 8)\n"
     ]
    }
   ],
   "source": [
    "t =(2,3,4,5,6,78,8,9,67,676,75,65,64,4)\n",
    "t2=tuple(map(lambda x: x*2 ,t)) \n",
    "print(f'all elements in a tuple by 2{t2}')"
   ]
  },
  {
   "cell_type": "code",
   "execution_count": null,
   "id": "8adf47a0-64bc-46a7-aa03-d905dbf0bbb2",
   "metadata": {},
   "outputs": [],
   "source": [
    "37. Create a tuple of random numbers."
   ]
  },
  {
   "cell_type": "code",
   "execution_count": 131,
   "id": "1eed5852-c380-433f-9d6d-d43379eadb22",
   "metadata": {},
   "outputs": [
    {
     "name": "stdout",
     "output_type": "stream",
     "text": [
      "tuple of random numbers is (4, 0, 6, 9, 5, 2)\n"
     ]
    }
   ],
   "source": [
    "import numpy as np\n",
    "import random \n",
    "t=np.random.randint(0,10,size = 6)\n",
    "t4=tuple(t)\n",
    "print(f'tuple of random numbers is {t4}')"
   ]
  },
  {
   "cell_type": "code",
   "execution_count": null,
   "id": "173da46d-2268-468d-8e53-cb78595cf288",
   "metadata": {},
   "outputs": [],
   "source": [
    "39. Rotate a tuple to the left by 4 positions."
   ]
  },
  {
   "cell_type": "code",
   "execution_count": 157,
   "id": "6c6d23ff-9f40-477d-8c95-f1f111548bcc",
   "metadata": {},
   "outputs": [
    {
     "data": {
      "text/plain": [
       "(2, 3, 4, 5, 67, 8)"
      ]
     },
     "execution_count": 157,
     "metadata": {},
     "output_type": "execute_result"
    }
   ],
   "source": [
    "t = (2,3,4,5,67,8)\n",
    "t3=t[:4]+t[4:]\n",
    "t3"
   ]
  },
  {
   "cell_type": "code",
   "execution_count": null,
   "id": "b57687f2-9065-4069-b14c-eab66247cac6",
   "metadata": {},
   "outputs": [],
   "source": [
    "40. Rotate a tuple to the right by 4 positions."
   ]
  },
  {
   "cell_type": "code",
   "execution_count": 158,
   "id": "741cd0f4-fc72-42a6-8700-22e7b8c68fbc",
   "metadata": {},
   "outputs": [
    {
     "data": {
      "text/plain": [
       "(2, 3, 4, 5, 67, 8)"
      ]
     },
     "execution_count": 158,
     "metadata": {},
     "output_type": "execute_result"
    }
   ],
   "source": [
    "t"
   ]
  },
  {
   "cell_type": "code",
   "execution_count": 160,
   "id": "25984e24-c48c-42bb-8da6-9245895573fa",
   "metadata": {},
   "outputs": [
    {
     "data": {
      "text/plain": [
       "(67, 8, 2, 3, 4, 5)"
      ]
     },
     "execution_count": 160,
     "metadata": {},
     "output_type": "execute_result"
    }
   ],
   "source": [
    "t3=t[4:]+t[:4]\n",
    "t3"
   ]
  },
  {
   "cell_type": "code",
   "execution_count": null,
   "id": "dec60d7d-f1d0-4056-90a9-6f3621f1ec27",
   "metadata": {},
   "outputs": [],
   "source": [
    "41. Create a tuple of the first 5 Fibonacci numbers."
   ]
  },
  {
   "cell_type": "code",
   "execution_count": 204,
   "id": "53f0b00f-8ecb-413f-8421-e9ec1a98f4d7",
   "metadata": {},
   "outputs": [
    {
     "name": "stdout",
     "output_type": "stream",
     "text": [
      "(0, 1, 1, 2, 3)\n"
     ]
    }
   ],
   "source": [
    "t = ()\n",
    "a = 0\n",
    "b = 1\n",
    "for i in range(5):\n",
    "    a,b=a+b,a\n",
    "    t+=(b,)\n",
    "print(t)"
   ]
  },
  {
   "cell_type": "code",
   "execution_count": null,
   "id": "30bc0ee4-2dda-477c-a448-50c96a7af430",
   "metadata": {},
   "outputs": [],
   "source": [
    "42. Create a tuple from user input."
   ]
  },
  {
   "cell_type": "code",
   "execution_count": 206,
   "id": "4640620f-227f-42aa-bdb1-12f31089af9c",
   "metadata": {},
   "outputs": [
    {
     "name": "stdin",
     "output_type": "stream",
     "text": [
      "enter the tuple 1233454\n"
     ]
    },
    {
     "data": {
      "text/plain": [
       "('1', '2', '3', '3', '4', '5', '4')"
      ]
     },
     "execution_count": 206,
     "metadata": {},
     "output_type": "execute_result"
    }
   ],
   "source": [
    "t2=tuple(input('enter the tuple'))\n",
    "t2"
   ]
  },
  {
   "cell_type": "code",
   "execution_count": null,
   "id": "f5d404b1-8a8f-4943-8b99-d3c17711f89f",
   "metadata": {},
   "outputs": [],
   "source": [
    "43. Swap two elements in a tuple."
   ]
  },
  {
   "cell_type": "code",
   "execution_count": 36,
   "id": "6c789828-acf2-48e6-9dcb-3d834d35874f",
   "metadata": {},
   "outputs": [
    {
     "data": {
      "text/plain": [
       "(1, 3, 2, 45, 6)"
      ]
     },
     "execution_count": 36,
     "metadata": {},
     "output_type": "execute_result"
    }
   ],
   "source": [
    "t = (1,2,3,45,6)\n",
    "t2=list(t)\n",
    "t2[1],t2[2]=t2[2],t2[1]\n",
    "tuple(t2)"
   ]
  },
  {
   "cell_type": "code",
   "execution_count": null,
   "id": "d27e967d-2426-407d-8075-0eb97430bab6",
   "metadata": {},
   "outputs": [],
   "source": [
    "44. Reverse the elements of a tuple."
   ]
  },
  {
   "cell_type": "code",
   "execution_count": 38,
   "id": "a946ad99-3561-490f-ac47-96e36592fd8e",
   "metadata": {},
   "outputs": [
    {
     "data": {
      "text/plain": [
       "(1, 2, 3, 45, 5)"
      ]
     },
     "execution_count": 38,
     "metadata": {},
     "output_type": "execute_result"
    }
   ],
   "source": [
    "t"
   ]
  },
  {
   "cell_type": "code",
   "execution_count": 39,
   "id": "a80c778a-e1ef-468a-b490-03936bb077d6",
   "metadata": {},
   "outputs": [
    {
     "data": {
      "text/plain": [
       "(5, 45, 3, 2, 1)"
      ]
     },
     "execution_count": 39,
     "metadata": {},
     "output_type": "execute_result"
    }
   ],
   "source": [
    "t[::-1]"
   ]
  },
  {
   "cell_type": "code",
   "execution_count": null,
   "id": "baa1f72e-4107-495b-9d9d-c5927085b127",
   "metadata": {},
   "outputs": [],
   "source": [
    "45. Create a tuple of the first `n` powers of 2."
   ]
  },
  {
   "cell_type": "code",
   "execution_count": 52,
   "id": "9f662eee-163e-4831-9f18-51bdb76f60bf",
   "metadata": {},
   "outputs": [
    {
     "data": {
      "text/plain": [
       "(1, 4, 9, 16, 25, 36)"
      ]
     },
     "execution_count": 52,
     "metadata": {},
     "output_type": "execute_result"
    }
   ],
   "source": [
    "t =(1,2,3,4,5,6)\n",
    "tuple(map(lambda x : x**2 ,t))"
   ]
  },
  {
   "cell_type": "code",
   "execution_count": null,
   "id": "34a4637d-e864-41bf-b27d-a446b0b068c4",
   "metadata": {},
   "outputs": [],
   "source": [
    "46. Find the longest string in a tuple of strings."
   ]
  },
  {
   "cell_type": "code",
   "execution_count": 47,
   "id": "604ea3c6-060c-46f1-8481-727359a89820",
   "metadata": {},
   "outputs": [],
   "source": [
    "t = (\"my\", 'name','is' ,'avichal','saxena 123')"
   ]
  },
  {
   "cell_type": "code",
   "execution_count": 48,
   "id": "cddd5e1a-5ea5-4b47-bef6-47eacbbce597",
   "metadata": {},
   "outputs": [
    {
     "data": {
      "text/plain": [
       "'saxena 123'"
      ]
     },
     "execution_count": 48,
     "metadata": {},
     "output_type": "execute_result"
    }
   ],
   "source": [
    "max(t,key=(len))"
   ]
  },
  {
   "cell_type": "code",
   "execution_count": null,
   "id": "470b5bf4-b74d-4804-9d23-d479b07ebb85",
   "metadata": {},
   "outputs": [],
   "source": [
    "47. Find the shortest string in a tuple of strings."
   ]
  },
  {
   "cell_type": "code",
   "execution_count": 49,
   "id": "aadf9181-271f-41bb-93fe-6cc5782c9760",
   "metadata": {},
   "outputs": [
    {
     "data": {
      "text/plain": [
       "('my', 'name', 'is', 'avichal', 'saxena 123')"
      ]
     },
     "execution_count": 49,
     "metadata": {},
     "output_type": "execute_result"
    }
   ],
   "source": [
    "t"
   ]
  },
  {
   "cell_type": "code",
   "execution_count": 50,
   "id": "c5b66a7c-b7c7-445b-8eb0-0eda2491360b",
   "metadata": {},
   "outputs": [
    {
     "data": {
      "text/plain": [
       "'my'"
      ]
     },
     "execution_count": 50,
     "metadata": {},
     "output_type": "execute_result"
    }
   ],
   "source": [
    "min(t,key=len)"
   ]
  },
  {
   "cell_type": "code",
   "execution_count": null,
   "id": "9dd8d58a-3341-467e-b78a-77eba79f218d",
   "metadata": {},
   "outputs": [],
   "source": [
    "48. Create a tuple of the first n triangular numbers."
   ]
  },
  {
   "cell_type": "code",
   "execution_count": 85,
   "id": "f5ab97b0-b69b-4c60-b01f-e53377dff82d",
   "metadata": {},
   "outputs": [
    {
     "name": "stdout",
     "output_type": "stream",
     "text": [
      "Tuple of the first 5 triangular numbers: (1, 3, 6, 10, 15)\n"
     ]
    }
   ],
   "source": [
    "n = 5\n",
    "\n",
    "# Create a tuple of the first n triangular numbers using a list comprehension\n",
    "triangular_numbers_tuple = tuple((i * (i + 1)) // 2 for i in range(1, n + 1))\n",
    "\n",
    "# Print the tuple of triangular numbers\n",
    "print(\"Tuple of the first\", n, \"triangular numbers:\", triangular_numbers_tuple)"
   ]
  },
  {
   "cell_type": "code",
   "execution_count": null,
   "id": "f4424e63-0ed6-4e92-a61f-33852cf74478",
   "metadata": {},
   "outputs": [],
   "source": [
    "49. Check if a tuple contains another tuple as a subsequence."
   ]
  },
  {
   "cell_type": "code",
   "execution_count": 86,
   "id": "5c414418-c919-402b-a921-436d9bba3934",
   "metadata": {},
   "outputs": [
    {
     "name": "stdout",
     "output_type": "stream",
     "text": [
      "Main tuple contains subsequence tuple: True\n"
     ]
    }
   ],
   "source": [
    "def contains_subsequence(main_tuple, sub_tuple):\n",
    "    sub_length = len(sub_tuple)\n",
    "    for i in range(len(main_tuple) - sub_length + 1):\n",
    "        if main_tuple[i:i+sub_length] == sub_tuple:\n",
    "            return True\n",
    "    return False\n",
    "\n",
    "# Main tuple\n",
    "main_tuple = (1, 2, 3, 4, 5, 6, 7, 8, 9)\n",
    "\n",
    "# Subsequence tuple\n",
    "sub_tuple = (3, 4, 5)\n",
    "\n",
    "# Check if the main tuple contains the subsequence tuple\n",
    "contains_subseq = contains_subsequence(main_tuple, sub_tuple)\n",
    "\n",
    "# Print the result\n",
    "print(\"Main tuple contains subsequence tuple:\", contains_subseq)"
   ]
  },
  {
   "cell_type": "code",
   "execution_count": null,
   "id": "d12da03e-4200-4a52-8614-454172f51a7f",
   "metadata": {},
   "outputs": [],
   "source": [
    "50. Create a tuple of alternating 1s and 0s of length n."
   ]
  },
  {
   "cell_type": "code",
   "execution_count": 87,
   "id": "3150f825-9faa-4fb6-857f-3b4f870bed3a",
   "metadata": {},
   "outputs": [
    {
     "name": "stdout",
     "output_type": "stream",
     "text": [
      "Tuple of alternating 1s and 0s: (0, 1, 0, 1, 0, 1, 0, 1, 0, 1)\n"
     ]
    }
   ],
   "source": [
    "n = 10\n",
    "\n",
    "# Create a tuple of alternating 1s and 0s using a list comprehension\n",
    "alternating_tuple = tuple(i % 2 for i in range(n))\n",
    "\n",
    "# Print the tuple of alternating 1s and 0s\n",
    "print(\"Tuple of alternating 1s and 0s:\", alternating_tuple)"
   ]
  },
  {
   "cell_type": "code",
   "execution_count": null,
   "id": "aaba810c-0491-4211-bb90-dfda125594b1",
   "metadata": {},
   "outputs": [],
   "source": []
  }
 ],
 "metadata": {
  "kernelspec": {
   "display_name": "Python 3 (ipykernel)",
   "language": "python",
   "name": "python3"
  },
  "language_info": {
   "codemirror_mode": {
    "name": "ipython",
    "version": 3
   },
   "file_extension": ".py",
   "mimetype": "text/x-python",
   "name": "python",
   "nbconvert_exporter": "python",
   "pygments_lexer": "ipython3",
   "version": "3.10.8"
  }
 },
 "nbformat": 4,
 "nbformat_minor": 5
}
